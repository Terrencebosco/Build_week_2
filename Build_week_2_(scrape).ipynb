{
  "nbformat": 4,
  "nbformat_minor": 0,
  "metadata": {
    "colab": {
      "name": "Build_week_2 (scrape).ipynb",
      "provenance": [],
      "authorship_tag": "ABX9TyNKd3rxoYhttLobgiX6jDKP",
      "include_colab_link": true
    },
    "kernelspec": {
      "name": "python3",
      "display_name": "Python 3"
    }
  },
  "cells": [
    {
      "cell_type": "markdown",
      "metadata": {
        "id": "view-in-github",
        "colab_type": "text"
      },
      "source": [
        "<a href=\"https://colab.research.google.com/github/Terrencebosco/Build_week_2/blob/master/Build_week_2_(scrape).ipynb\" target=\"_parent\"><img src=\"https://colab.research.google.com/assets/colab-badge.svg\" alt=\"Open In Colab\"/></a>"
      ]
    },
    {
      "cell_type": "code",
      "metadata": {
        "id": "OLjAyfNFzyta",
        "colab_type": "code",
        "colab": {}
      },
      "source": [
        "# imports\n",
        "import requests\n",
        "from bs4 import BeautifulSoup\n",
        "from csv import writer ###\n",
        "import matplotlib.pyplot as plt\n",
        "import seaborn as sns\n",
        "from time import sleep\n",
        "from random import randint\n",
        "import pandas as pd\n",
        "import numpy as np\n",
        "import re ###"
      ],
      "execution_count": null,
      "outputs": []
    },
    {
      "cell_type": "code",
      "metadata": {
        "id": "XuF53t7U0CP4",
        "colab_type": "code",
        "colab": {}
      },
      "source": [
        "# pulls uniqe url from over all listing page for each listing\n",
        "pages = np.arange(1,51)\n",
        "values = []\n",
        "\n",
        "for page in pages:\n",
        "    \n",
        "    data = requests.get('https://www.cars.com/for-sale/searchresults.action/?page='+str(page)+'&perPage=100&prMx=10000&rd=250&searchSource=PAGINATION&sort=relevance&stkTypId=28881&zc=33408')\n",
        "    soup = BeautifulSoup(data.content, 'html.parser')\n",
        "    search = soup.findAll('div', class_='listing-row__badges')\n",
        "    \n",
        "    sleep(randint(2,3))\n",
        "    \n",
        "    for post in search:\n",
        "        values.append(post['data-submit-badge'])\n",
        "\n",
        "len(values)"
      ],
      "execution_count": null,
      "outputs": []
    },
    {
      "cell_type": "code",
      "metadata": {
        "id": "YzRbY2UR0CMU",
        "colab_type": "code",
        "colab": {}
      },
      "source": [
        "# remove unwated text (formatting when pulling data)\n",
        "srip = 'Based on EPA mileage ratings. Use for comparison purposes only. Actual mileage will vary depending on driving conditions, driving habits, vehicle maintenance, and other factors.'"
      ],
      "execution_count": null,
      "outputs": []
    },
    {
      "cell_type": "code",
      "metadata": {
        "id": "i6SnPg2_0CJd",
        "colab_type": "code",
        "colab": {}
      },
      "source": [
        "# pulling info from each web listing for each car\n",
        "\n",
        "car_names = []\n",
        "car_mileage = []\n",
        "price = []\n",
        "ext_color = []\n",
        "int_color = []\n",
        "city_mpg = []\n",
        "high_mpg = []\n",
        "drivetrain = []\n",
        "transmission = []\n",
        "engine = []\n",
        "\n",
        "for value in values:\n",
        "    url = f'https://www.cars.com/vehicledetail/detail/{value}/overview/'\n",
        "    data = requests.get(url)\n",
        "    soup = BeautifulSoup(data.content, 'html.parser')\n",
        "    sleep(randint(2,5))\n",
        "    \n",
        "    # car name\n",
        "    try:\n",
        "        car_name = soup.find(class_='vehicle-info__title-container').h1.find_next('h1').get_text()\n",
        "    except:\n",
        "        'missing'\n",
        "    car_names.append(car_name)\n",
        "    \n",
        "    # mileage\n",
        "    try:\n",
        "        mileage = soup.find(class_=\"vdp-cap-price__mileage--mobile vehicle-info__mileage mileage_margin\").get_text()\n",
        "    except:\n",
        "        'missing'\n",
        "    car_mileage.append(mileage)\n",
        "\n",
        "    # price\n",
        "    try:\n",
        "        prices = soup.find('span', class_=\"vehicle-info__price-display vehicle-info__price-display--dealer cui-heading-2\").text\n",
        "    except:\n",
        "        'missing'\n",
        "    price.append(prices)\n",
        "\n",
        "    # ext color \n",
        "    try:\n",
        "        car_color = soup.findAll(class_=\"vdp-details-basics__item\")[1].get_text().strip('\\n').strip(' ')\n",
        "    except:\n",
        "        'missing'\n",
        "    ext_color.append(car_color)\n",
        "    \n",
        "    # int color\n",
        "    try:\n",
        "        inside = soup.findAll(class_=\"vdp-details-basics__item\")[3].get_text().strip('\\n') \n",
        "    except:\n",
        "        'missing'\n",
        "    int_color.append(inside)\n",
        "    \n",
        "    # city mpg\n",
        "    try:\n",
        "        c_mpg = soup.find_all(class_=\"vdp-details-basics__item\")[2].get_text().strip('\\n').strip(srip).strip('City MPG:')\n",
        "    except:\n",
        "        'missing'\n",
        "    city_mpg.append(c_mpg)\n",
        "    \n",
        "    # highway mpg\n",
        "    try:\n",
        "        h_mpg = soup.find_all(class_=\"vdp-details-basics__item\")[4].get_text().strip('\\n').strip(srip).strip('Highway MPG: ')\n",
        "    except:\n",
        "        'missing'\n",
        "    high_mpg.append(h_mpg)\n",
        "    \n",
        "    # drivetrain\n",
        "    try:\n",
        "        drive = soup.findAll(class_=\"vdp-details-basics__item\")[6].get_text().strip('\\n').strip('Drivetrain:').strip(' ')\n",
        "    except:\n",
        "        'missing'\n",
        "    drivetrain.append(drive)\n",
        "    \n",
        "    # transmission\n",
        "    try:\n",
        "        trans = soup.findAll(class_=\"vdp-details-basics__item\")[7].get_text().strip('\\n').strip('Transmission: ')\n",
        "    except:\n",
        "        'missing'\n",
        "    transmission.append(trans)\n",
        "    \n",
        "    # engine\n",
        "    try:\n",
        "        eng = soup.findAll(class_=\"vdp-details-basics__item\")[8].get_text().strip('\\n').strip('Engine:').strip(' ')\n",
        "    except:\n",
        "        'missing'\n",
        "    engine.append(eng)"
      ],
      "execution_count": null,
      "outputs": []
    },
    {
      "cell_type": "code",
      "metadata": {
        "id": "t3e03CmR0CGs",
        "colab_type": "code",
        "colab": {}
      },
      "source": [
        "# turn appended lists into a dataframe\n",
        "df = pd.DataFrame(list(zip(car_names, car_mileage, price, ext_color,\n",
        "                           int_color, city_mpg, high_mpg, transmission, drivetrain, engine)), \n",
        "               columns =['car', 'mileage', 'price', 'ext_color', 'int_color',\n",
        "                        'city_mpg', 'high_mpg', 'transmission', 'drivetrain', 'engine'])\n",
        "df = df[~df['high_mpg'].str.contains('Stock')]"
      ],
      "execution_count": null,
      "outputs": []
    },
    {
      "cell_type": "code",
      "metadata": {
        "id": "2LIdmHTJ0CD1",
        "colab_type": "code",
        "colab": {}
      },
      "source": [
        ""
      ],
      "execution_count": null,
      "outputs": []
    },
    {
      "cell_type": "code",
      "metadata": {
        "id": "1oQHZwpa0CBG",
        "colab_type": "code",
        "colab": {}
      },
      "source": [
        ""
      ],
      "execution_count": null,
      "outputs": []
    },
    {
      "cell_type": "code",
      "metadata": {
        "id": "wpKs0R3S0B-T",
        "colab_type": "code",
        "colab": {}
      },
      "source": [
        ""
      ],
      "execution_count": null,
      "outputs": []
    },
    {
      "cell_type": "code",
      "metadata": {
        "id": "qDiAo0Dq0B7a",
        "colab_type": "code",
        "colab": {}
      },
      "source": [
        ""
      ],
      "execution_count": null,
      "outputs": []
    }
  ]
}