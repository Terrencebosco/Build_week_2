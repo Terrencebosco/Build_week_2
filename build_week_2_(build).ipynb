{
  "nbformat": 4,
  "nbformat_minor": 0,
  "metadata": {
    "colab": {
      "name": "build_week_2_(build).ipynb",
      "provenance": [],
      "authorship_tag": "ABX9TyOzvX3MCK8ZNHWRE6E+bVuP",
      "include_colab_link": true
    },
    "kernelspec": {
      "name": "python3",
      "display_name": "Python 3"
    }
  },
  "cells": [
    {
      "cell_type": "markdown",
      "metadata": {
        "id": "view-in-github",
        "colab_type": "text"
      },
      "source": [
        "<a href=\"https://colab.research.google.com/github/Terrencebosco/Build_week_2/blob/master/build_week_2_(build).ipynb\" target=\"_parent\"><img src=\"https://colab.research.google.com/assets/colab-badge.svg\" alt=\"Open In Colab\"/></a>"
      ]
    },
    {
      "cell_type": "code",
      "metadata": {
        "id": "wWPX3G3kyvhP",
        "colab_type": "code",
        "colab": {}
      },
      "source": [
        "import pandas as pd\n",
        "import numpy as np\n",
        "import matplotlib.pyplot as plt\n",
        "import seaborn as sns"
      ],
      "execution_count": 34,
      "outputs": []
    },
    {
      "cell_type": "code",
      "metadata": {
        "id": "7fgcSd-PzFl-",
        "colab_type": "code",
        "colab": {
          "base_uri": "https://localhost:8080/",
          "height": 195
        },
        "outputId": "114845af-e600-4129-8eb6-5e0d9029b358"
      },
      "source": [
        "# read in precleaned data\n",
        "url = 'https://raw.githubusercontent.com/Terrencebosco/Build_week_2/master/clean_data_set_2_v2'\n",
        "df = pd.read_csv(url)\n",
        "\n",
        "# data\n",
        "df.head()"
      ],
      "execution_count": 35,
      "outputs": [
        {
          "output_type": "execute_result",
          "data": {
            "text/html": [
              "<div>\n",
              "<style scoped>\n",
              "    .dataframe tbody tr th:only-of-type {\n",
              "        vertical-align: middle;\n",
              "    }\n",
              "\n",
              "    .dataframe tbody tr th {\n",
              "        vertical-align: top;\n",
              "    }\n",
              "\n",
              "    .dataframe thead th {\n",
              "        text-align: right;\n",
              "    }\n",
              "</style>\n",
              "<table border=\"1\" class=\"dataframe\">\n",
              "  <thead>\n",
              "    <tr style=\"text-align: right;\">\n",
              "      <th></th>\n",
              "      <th>car</th>\n",
              "      <th>mileage</th>\n",
              "      <th>price</th>\n",
              "      <th>ext_color</th>\n",
              "      <th>int_color</th>\n",
              "      <th>city_mpg</th>\n",
              "      <th>high_mpg</th>\n",
              "      <th>transmission</th>\n",
              "      <th>drivetrain</th>\n",
              "      <th>engine</th>\n",
              "      <th>car_year</th>\n",
              "      <th>Make</th>\n",
              "      <th>size</th>\n",
              "      <th>flex_fuel</th>\n",
              "      <th>hybrid</th>\n",
              "      <th>turbo</th>\n",
              "    </tr>\n",
              "  </thead>\n",
              "  <tbody>\n",
              "    <tr>\n",
              "      <th>0</th>\n",
              "      <td>Mazda3 i SV</td>\n",
              "      <td>54589</td>\n",
              "      <td>7352</td>\n",
              "      <td>Black</td>\n",
              "      <td>Black</td>\n",
              "      <td>29</td>\n",
              "      <td>41</td>\n",
              "      <td>6-Speed Automatic</td>\n",
              "      <td>FWD</td>\n",
              "      <td>I4 16V GDI DOHC</td>\n",
              "      <td>2015</td>\n",
              "      <td>Mazda</td>\n",
              "      <td>2.0L</td>\n",
              "      <td>0</td>\n",
              "      <td>0</td>\n",
              "      <td>0</td>\n",
              "    </tr>\n",
              "    <tr>\n",
              "      <th>1</th>\n",
              "      <td>Elantra SE</td>\n",
              "      <td>87130</td>\n",
              "      <td>6988</td>\n",
              "      <td>Silver</td>\n",
              "      <td>Gray</td>\n",
              "      <td>27</td>\n",
              "      <td>37</td>\n",
              "      <td>6-Speed Automatic</td>\n",
              "      <td>FWD</td>\n",
              "      <td>I4 16V MPFI DOHC</td>\n",
              "      <td>2015</td>\n",
              "      <td>Hyundai</td>\n",
              "      <td>1.8L</td>\n",
              "      <td>0</td>\n",
              "      <td>0</td>\n",
              "      <td>0</td>\n",
              "    </tr>\n",
              "    <tr>\n",
              "      <th>2</th>\n",
              "      <td>Rio SX</td>\n",
              "      <td>64101</td>\n",
              "      <td>7650</td>\n",
              "      <td>Red</td>\n",
              "      <td>Black</td>\n",
              "      <td>28</td>\n",
              "      <td>36</td>\n",
              "      <td>6-Speed Manual</td>\n",
              "      <td>FWD</td>\n",
              "      <td>I4 16V GDI DOHC</td>\n",
              "      <td>2013</td>\n",
              "      <td>Kia</td>\n",
              "      <td>1.6L</td>\n",
              "      <td>0</td>\n",
              "      <td>0</td>\n",
              "      <td>0</td>\n",
              "    </tr>\n",
              "    <tr>\n",
              "      <th>3</th>\n",
              "      <td>Optima LX</td>\n",
              "      <td>106575</td>\n",
              "      <td>4999</td>\n",
              "      <td>Silver</td>\n",
              "      <td>Gray</td>\n",
              "      <td>24</td>\n",
              "      <td>35</td>\n",
              "      <td>6-Speed Automatic</td>\n",
              "      <td>FWD</td>\n",
              "      <td>I4 16V GDI DOHC</td>\n",
              "      <td>2013</td>\n",
              "      <td>Kia</td>\n",
              "      <td>2.4L</td>\n",
              "      <td>0</td>\n",
              "      <td>0</td>\n",
              "      <td>0</td>\n",
              "    </tr>\n",
              "    <tr>\n",
              "      <th>4</th>\n",
              "      <td>Focus SE</td>\n",
              "      <td>82301</td>\n",
              "      <td>6491</td>\n",
              "      <td>Black</td>\n",
              "      <td>Black</td>\n",
              "      <td>26</td>\n",
              "      <td>36</td>\n",
              "      <td>6-Speed Automatic with Auto-Shift</td>\n",
              "      <td>FWD</td>\n",
              "      <td>I4 16V GDI DOHC</td>\n",
              "      <td>2014</td>\n",
              "      <td>Ford</td>\n",
              "      <td>2.0L</td>\n",
              "      <td>0</td>\n",
              "      <td>0</td>\n",
              "      <td>0</td>\n",
              "    </tr>\n",
              "  </tbody>\n",
              "</table>\n",
              "</div>"
            ],
            "text/plain": [
              "           car  mileage  price ext_color  ...  size  flex_fuel  hybrid turbo\n",
              "0  Mazda3 i SV    54589   7352     Black  ...  2.0L          0       0     0\n",
              "1   Elantra SE    87130   6988    Silver  ...  1.8L          0       0     0\n",
              "2       Rio SX    64101   7650       Red  ...  1.6L          0       0     0\n",
              "3    Optima LX   106575   4999    Silver  ...  2.4L          0       0     0\n",
              "4     Focus SE    82301   6491     Black  ...  2.0L          0       0     0\n",
              "\n",
              "[5 rows x 16 columns]"
            ]
          },
          "metadata": {
            "tags": []
          },
          "execution_count": 35
        }
      ]
    },
    {
      "cell_type": "markdown",
      "metadata": {
        "id": "VrY0x4Qe7Jsk",
        "colab_type": "text"
      },
      "source": [
        "# EDA"
      ]
    },
    {
      "cell_type": "code",
      "metadata": {
        "id": "9rf0od1rzFjp",
        "colab_type": "code",
        "colab": {}
      },
      "source": [
        " # check pair plot to see relations\n",
        " sns.pairplot(df)"
      ],
      "execution_count": null,
      "outputs": []
    },
    {
      "cell_type": "code",
      "metadata": {
        "id": "AIGX81LC8LC6",
        "colab_type": "code",
        "colab": {}
      },
      "source": [
        "numeric_features_list = df.select_dtypes(int)\n",
        "numeric_features_list = numeric_features_list.drop('price', axis=1)\n",
        "\n",
        "for feature in numeric_features_list:\n",
        "    sns.jointplot(x=\"price\", y=feature, data=df, kind='reg',\n",
        "                  joint_kws={'line_kws':{'color':'red'}});"
      ],
      "execution_count": null,
      "outputs": []
    },
    {
      "cell_type": "code",
      "metadata": {
        "id": "Mgxa6hPY9WOJ",
        "colab_type": "code",
        "colab": {
          "base_uri": "https://localhost:8080/",
          "height": 326
        },
        "outputId": "4f71a051-c6ef-41c7-cadf-7392d18bc652"
      },
      "source": [
        "x_tab = df.corr()\n",
        "\n",
        "sns.heatmap(x_tab)"
      ],
      "execution_count": 38,
      "outputs": [
        {
          "output_type": "execute_result",
          "data": {
            "text/plain": [
              "<matplotlib.axes._subplots.AxesSubplot at 0x7f51173e7cf8>"
            ]
          },
          "metadata": {
            "tags": []
          },
          "execution_count": 38
        },
        {
          "output_type": "display_data",
          "data": {
            "image/png": "[encoded data removed]",
            "text/plain": [
              "<Figure size 432x288 with 2 Axes>"
            ]
          },
          "metadata": {
            "tags": [],
            "needs_background": "light"
          }
        }
      ]
    },
    {
      "cell_type": "code",
      "metadata": {
        "id": "zN_sIqDPZ4nb",
        "colab_type": "code",
        "colab": {
          "base_uri": "https://localhost:8080/",
          "height": 513
        },
        "outputId": "291a5e57-1aee-43cf-b3a8-76f5dfe93dfb"
      },
      "source": [
        "# plot number of cars by 'make'\n",
        "ax = plt.figure(figsize=(10,8))\n",
        "\n",
        "sns.countplot(data=df, y='Make',\n",
        "               order=df['Make'].value_counts().sort_values(ascending=False).index,\n",
        "              color='#3498db')\n",
        "\n",
        "plt.title('Number of each car being sold');"
      ],
      "execution_count": 107,
      "outputs": [
        {
          "output_type": "display_data",
          "data": {
            "image/png": "[encoded data removed]",
            "text/plain": [
              "<Figure size 720x576 with 1 Axes>"
            ]
          },
          "metadata": {
            "tags": [],
            "needs_background": "light"
          }
        }
      ]
    },
    {
      "cell_type": "code",
      "metadata": {
        "id": "bCE1zUCbd3XR",
        "colab_type": "code",
        "colab": {
          "base_uri": "https://localhost:8080/",
          "height": 365
        },
        "outputId": "c2e5b923-34a5-499d-fa77-53bbb812afd0"
      },
      "source": [
        "# plot number of cars by 'car_year'\n",
        "ax = plt.figure(figsize=(7,5))\n",
        "sns.countplot(df['car_year'], color='#3498db')\n",
        "\n",
        "plt.title('Number of car in each year')\n",
        "plt.xticks(\n",
        "    rotation=90, \n",
        "    horizontalalignment='center',\n",
        "    fontweight='light',  \n",
        ");"
      ],
      "execution_count": 104,
      "outputs": [
        {
          "output_type": "display_data",
          "data": {
            "image/png": "[encoded data removed]",
            "text/plain": [
              "<Figure size 504x360 with 1 Axes>"
            ]
          },
          "metadata": {
            "tags": [],
            "needs_background": "light"
          }
        }
      ]
    },
    {
      "cell_type": "code",
      "metadata": {
        "id": "FrVdaUvggH_g",
        "colab_type": "code",
        "colab": {
          "base_uri": "https://localhost:8080/",
          "height": 312
        },
        "outputId": "b10fb67e-6ab6-453b-efd4-e5c05b3c41e7"
      },
      "source": [
        "# plot mean mileage\n",
        "mileage_mean = df['mileage'].mean()\n",
        "sns.distplot(df['mileage'])\n",
        "plt.axvline(df['mileage'].mean(), color='red')\n",
        "plt.title('Mean mileage')\n",
        "print(f'{mileage_mean:,.0f} is the mean mileage')"
      ],
      "execution_count": 128,
      "outputs": [
        {
          "output_type": "stream",
          "text": [
            "79,739 is the mean mileage\n"
          ],
          "name": "stdout"
        },
        {
          "output_type": "display_data",
          "data": {
            "image/png": "[encoded data removed]",
            "text/plain": [
              "<Figure size 432x288 with 1 Axes>"
            ]
          },
          "metadata": {
            "tags": [],
            "needs_background": "light"
          }
        }
      ]
    },
    {
      "cell_type": "markdown",
      "metadata": {
        "id": "h7mV88CeCQ-p",
        "colab_type": "text"
      },
      "source": [
        " ## Findings based on target vs feature\n"
      ]
    },
    {
      "cell_type": "markdown",
      "metadata": {
        "id": "Mcb2k6uKCc6B",
        "colab_type": "text"
      },
      "source": [
        "we can see that there are several features that effect the target(Price) of the used car. \n",
        "\n",
        "1. mileage vs price.\n",
        "\n",
        "the price of the car is negativly correlated with the price of the car. as the mileae goes up the price of the car will go down.\n",
        "\n",
        "\n",
        "2. mpg vs price. \n",
        "\n",
        "the MPG of the car, city and highway, are both positivly correlated with the price of the ca. this may be do to the fact that the newer cars have better mpg and thus cost more. not nessisarily because of the mpg but because of the year of the car. we can see this relationship in the heat map. the year of the car is related to the mpg of the car.\n",
        "\n",
        "\n",
        "3. year of car vs price. \n",
        "\n",
        "the year is positivly correlated to the price of the car. the newer cars generally cost more on resale\n",
        "\n",
        "4. flex fuel, tubo, hybrid vs price.\n",
        "\n",
        "flex fuel has almost no effect on the resale value of a car. on the other hand cars that have tubos, or are hybrids have a positvive relationship with a cars resale value."
      ]
    },
    {
      "cell_type": "markdown",
      "metadata": {
        "id": "ULxVrlbX9XC6",
        "colab_type": "text"
      },
      "source": [
        "# Model Selection"
      ]
    },
    {
      "cell_type": "code",
      "metadata": {
        "id": "AFWHKfdn9K3p",
        "colab_type": "code",
        "colab": {}
      },
      "source": [
        "target = 'price'\n",
        "features = df.drop(target, axis=1)"
      ],
      "execution_count": 39,
      "outputs": []
    }
  ]
}