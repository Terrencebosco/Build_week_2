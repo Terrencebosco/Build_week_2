{
  "nbformat": 4,
  "nbformat_minor": 0,
  "metadata": {
    "colab": {
      "name": "Build_week_2 (concept).ipynb",
      "provenance": [],
      "collapsed_sections": [],
      "authorship_tag": "ABX9TyMRnNQO9g9lwkQ2XNo8SHCt",
      "include_colab_link": true
    },
    "kernelspec": {
      "name": "python3",
      "display_name": "Python 3"
    }
  },
  "cells": [
    {
      "cell_type": "markdown",
      "metadata": {
        "id": "view-in-github",
        "colab_type": "text"
      },
      "source": [
        "<a href=\"https://colab.research.google.com/github/Terrencebosco/Build_week_2/blob/master/Build_week_2_(concept).ipynb\" target=\"_parent\"><img src=\"https://colab.research.google.com/assets/colab-badge.svg\" alt=\"Open In Colab\"/></a>"
      ]
    },
    {
      "cell_type": "code",
      "metadata": {
        "id": "5w41QAbWeEGr",
        "colab_type": "code",
        "colab": {}
      },
      "source": [
        "# imports\n",
        "import requests\n",
        "from bs4 import BeautifulSoup\n",
        "from csv import writer\n",
        "import matplotlib.pyplot as plt\n",
        "import seaborn as sns\n",
        "from time import sleep\n",
        "from random import randint\n",
        "import pandas as pd\n",
        "import numpy as np\n",
        "import re"
      ],
      "execution_count": 162,
      "outputs": []
    },
    {
      "cell_type": "code",
      "metadata": {
        "id": "L-FhK8fqagQz",
        "colab_type": "code",
        "colab": {}
      },
      "source": [
        "# link to web page for feature reference. \n",
        "\n",
        "# https://www.cars.com/for-sale/searchresults.action/?fuelTypeId=31763&page=1&perPage=100&prMx=10000&rd=500&searchSource=PAGINATION&sort=relevance&stkTypId=28881&yrId=27381%2C34923%2C39723%2C47272%2C51683%2C56007%2C58487%2C30031936%2C35797618%2C36362520%2C36620293&zc=33408"
      ],
      "execution_count": null,
      "outputs": []
    },
    {
      "cell_type": "code",
      "metadata": {
        "id": "0DwbMDW1kf8f",
        "colab_type": "code",
        "colab": {
          "base_uri": "https://localhost:8080/",
          "height": 34
        },
        "outputId": "00b95143-219b-4969-89cb-654b2d68554c"
      },
      "source": [
        "# building web scraper for cars.com ## \n",
        "#. search param\n",
        "#.. max price = 10k, year = 2010-2020, used, gas \n",
        "\n",
        "# number of web pages\n",
        "pages = np.arange(1,51)\n",
        "\n",
        "# start a file for the data to save to\n",
        "with open('cars.csv','w') as csv_file:\n",
        "    csv_writer = writer(csv_file)\n",
        "    # ,'Int_color','Transmission','Drivetrain'\n",
        "    headers = ['Price','Car','Mileage','Ext_color','Int_color','Transmission','Drivetrain']\n",
        "    csv_writer.writerow(headers)\n",
        "\n",
        "# loop over the number of pages to gather data\n",
        "    for page in pages:\n",
        "        response = requests.get('https://www.cars.com/for-sale/searchresults.action/?fuelTypeId=31763&page='+str(page)+'&perPage=100&prMx=10000&rd=500&searchSource=PAGINATION&sort=relevance&stkTypId=28881&yrId=27381%2C34923%2C39723%2C47272%2C51683%2C56007%2C58487%2C30031936%2C35797618%2C36362520%2C36620293&zc=33408')\n",
        "        soup = BeautifulSoup(response.text, 'html.parser')\n",
        "        sleep(randint(2,10))\n",
        "        posts = soup.find_all('div', class_='listing-row__details')\n",
        "\n",
        "        # gather the important information\n",
        "        for post in posts:\n",
        "            \n",
        "            try:\n",
        "                price = post.find(class_='listing-row__price').get_text().replace('\\n','').strip(' ')\n",
        "            except:\n",
        "                'Missing'\n",
        "            \n",
        "            try:\n",
        "                mileage = post.find(class_ = 'listing-row__mileage').get_text().replace('\\n','').strip(' ')\n",
        "            except:\n",
        "                'Missing'\n",
        "            \n",
        "            try:\n",
        "                car = post.find(class_='listing-row__title').get_text().replace('\\n','').strip(' ')\n",
        "            except:\n",
        "                'Missing'\n",
        "            \n",
        "            try:\n",
        "                ext_color = post.find( class_ = 'listing-row__meta').li.get_text().replace('\\n','').strip(' ').strip('Ext. Color:')\n",
        "            except:\n",
        "                'Missing'\n",
        "\n",
        "            try:\n",
        "                int_color = post.find( class_ = 'listing-row__meta').li.find_next('li').get_text().replace('\\n','').strip(' ').strip('nInt. Color:')\n",
        "            except:\n",
        "                'Missing'\n",
        "\n",
        "            try:\n",
        "                transmission = post.find( class_ = 'listing-row__meta').li.find_next('li').find_next('li').get_text().replace('\\n','').strip('Transmission:').strip(' ')\n",
        "            except:\n",
        "                'Missing'\n",
        "\n",
        "            try:\n",
        "                drivetrain = post.find( class_ = 'listing-row__meta').li.find_next('li').find_next('li').find_next('li').get_text().replace('\\n','').strip('Drivetrain:').strip(' ')\n",
        "            except:\n",
        "                'Missing'\n",
        "\n",
        "\n",
        "            csv_writer.writerow([price, car, mileage, ext_color, int_color, transmission, drivetrain])\n",
        "\n",
        "\n",
        "# read in new file\n",
        "df = pd.read_csv('/content/cars10.csv')\n",
        "\n",
        "# make file a padas data frame\n",
        "df = pd.DataFrame(df)\n",
        "\n",
        "# check the shape of the data\n",
        "df.shape"
      ],
      "execution_count": 206,
      "outputs": [
        {
          "output_type": "execute_result",
          "data": {
            "text/plain": [
              "(4997, 7)"
            ]
          },
          "metadata": {
            "tags": []
          },
          "execution_count": 206
        }
      ]
    },
    {
      "cell_type": "code",
      "metadata": {
        "id": "y-ijiJGcmO22",
        "colab_type": "code",
        "colab": {}
      },
      "source": [
        "# read in new data\n",
        "df = pd.read_csv('/content/cars.csv')"
      ],
      "execution_count": 209,
      "outputs": []
    },
    {
      "cell_type": "code",
      "metadata": {
        "id": "Phc1xz8BmXOq",
        "colab_type": "code",
        "colab": {}
      },
      "source": [
        "# remove missing data\n",
        "df['Mileage'] = df['Mileage'].replace('-- ',np.nan)"
      ],
      "execution_count": 211,
      "outputs": []
    },
    {
      "cell_type": "code",
      "metadata": {
        "id": "a1knpGBX2dzb",
        "colab_type": "code",
        "colab": {}
      },
      "source": [
        "## data formatting and cleaning ##\n",
        "\n",
        "# remove unwanted character\n",
        "df['Price'] = df['Price'].str.replace(',', '')\n",
        "df['Price'] = df['Price'].str.replace('$', '')\n",
        "\n",
        "df['Mileage'] = df['Mileage'].replace('-- ',np.nan)\n",
        "df['Mileage'] = df['Mileage'].str.replace(',', '')\n",
        "df['Mileage'] = df['Mileage'].str.replace('mi.', '')\n",
        "\n",
        "# check strip \n",
        "df.head()\n",
        "\n",
        "# change data type from string to int\n",
        "df['Price'] = pd.to_numeric(df['Price'])\n",
        "df['Mileage'] = pd.to_numeric(df['Mileage'])\n",
        "\n",
        "# remove outlier at price = 0\n",
        "df =  df[df['Price'] > 1000]"
      ],
      "execution_count": 213,
      "outputs": []
    },
    {
      "cell_type": "code",
      "metadata": {
        "id": "8TI2Rx2wq56o",
        "colab_type": "code",
        "colab": {
          "base_uri": "https://localhost:8080/",
          "height": 373
        },
        "outputId": "182c1ac9-6251-4a91-84e9-183981f394eb"
      },
      "source": [
        "# look at data\n",
        "df.describe(include='all')"
      ],
      "execution_count": 215,
      "outputs": [
        {
          "output_type": "execute_result",
          "data": {
            "text/html": [
              "<div>\n",
              "<style scoped>\n",
              "    .dataframe tbody tr th:only-of-type {\n",
              "        vertical-align: middle;\n",
              "    }\n",
              "\n",
              "    .dataframe tbody tr th {\n",
              "        vertical-align: top;\n",
              "    }\n",
              "\n",
              "    .dataframe thead th {\n",
              "        text-align: right;\n",
              "    }\n",
              "</style>\n",
              "<table border=\"1\" class=\"dataframe\">\n",
              "  <thead>\n",
              "    <tr style=\"text-align: right;\">\n",
              "      <th></th>\n",
              "      <th>Price</th>\n",
              "      <th>Car</th>\n",
              "      <th>Mileage</th>\n",
              "      <th>Ext_color</th>\n",
              "      <th>Int_color</th>\n",
              "      <th>Transmission</th>\n",
              "      <th>Drivetrain</th>\n",
              "    </tr>\n",
              "  </thead>\n",
              "  <tbody>\n",
              "    <tr>\n",
              "      <th>count</th>\n",
              "      <td>4996.000000</td>\n",
              "      <td>4996</td>\n",
              "      <td>4993.000000</td>\n",
              "      <td>4996</td>\n",
              "      <td>4996</td>\n",
              "      <td>4996</td>\n",
              "      <td>4996</td>\n",
              "    </tr>\n",
              "    <tr>\n",
              "      <th>unique</th>\n",
              "      <td>NaN</td>\n",
              "      <td>1677</td>\n",
              "      <td>NaN</td>\n",
              "      <td>14</td>\n",
              "      <td>12</td>\n",
              "      <td>5</td>\n",
              "      <td>6</td>\n",
              "    </tr>\n",
              "    <tr>\n",
              "      <th>top</th>\n",
              "      <td>NaN</td>\n",
              "      <td>2018 Nissan Versa 1.6 SV</td>\n",
              "      <td>NaN</td>\n",
              "      <td>White</td>\n",
              "      <td>Black</td>\n",
              "      <td>Automatic</td>\n",
              "      <td>FWD</td>\n",
              "    </tr>\n",
              "    <tr>\n",
              "      <th>freq</th>\n",
              "      <td>NaN</td>\n",
              "      <td>73</td>\n",
              "      <td>NaN</td>\n",
              "      <td>953</td>\n",
              "      <td>2037</td>\n",
              "      <td>3646</td>\n",
              "      <td>4488</td>\n",
              "    </tr>\n",
              "    <tr>\n",
              "      <th>mean</th>\n",
              "      <td>8183.432946</td>\n",
              "      <td>NaN</td>\n",
              "      <td>84298.800721</td>\n",
              "      <td>NaN</td>\n",
              "      <td>NaN</td>\n",
              "      <td>NaN</td>\n",
              "      <td>NaN</td>\n",
              "    </tr>\n",
              "    <tr>\n",
              "      <th>std</th>\n",
              "      <td>1580.551286</td>\n",
              "      <td>NaN</td>\n",
              "      <td>34345.450155</td>\n",
              "      <td>NaN</td>\n",
              "      <td>NaN</td>\n",
              "      <td>NaN</td>\n",
              "      <td>NaN</td>\n",
              "    </tr>\n",
              "    <tr>\n",
              "      <th>min</th>\n",
              "      <td>2450.000000</td>\n",
              "      <td>NaN</td>\n",
              "      <td>130.000000</td>\n",
              "      <td>NaN</td>\n",
              "      <td>NaN</td>\n",
              "      <td>NaN</td>\n",
              "      <td>NaN</td>\n",
              "    </tr>\n",
              "    <tr>\n",
              "      <th>25%</th>\n",
              "      <td>6997.000000</td>\n",
              "      <td>NaN</td>\n",
              "      <td>60129.000000</td>\n",
              "      <td>NaN</td>\n",
              "      <td>NaN</td>\n",
              "      <td>NaN</td>\n",
              "      <td>NaN</td>\n",
              "    </tr>\n",
              "    <tr>\n",
              "      <th>50%</th>\n",
              "      <td>8498.000000</td>\n",
              "      <td>NaN</td>\n",
              "      <td>82860.000000</td>\n",
              "      <td>NaN</td>\n",
              "      <td>NaN</td>\n",
              "      <td>NaN</td>\n",
              "      <td>NaN</td>\n",
              "    </tr>\n",
              "    <tr>\n",
              "      <th>75%</th>\n",
              "      <td>9500.000000</td>\n",
              "      <td>NaN</td>\n",
              "      <td>106000.000000</td>\n",
              "      <td>NaN</td>\n",
              "      <td>NaN</td>\n",
              "      <td>NaN</td>\n",
              "      <td>NaN</td>\n",
              "    </tr>\n",
              "    <tr>\n",
              "      <th>max</th>\n",
              "      <td>10000.000000</td>\n",
              "      <td>NaN</td>\n",
              "      <td>304450.000000</td>\n",
              "      <td>NaN</td>\n",
              "      <td>NaN</td>\n",
              "      <td>NaN</td>\n",
              "      <td>NaN</td>\n",
              "    </tr>\n",
              "  </tbody>\n",
              "</table>\n",
              "</div>"
            ],
            "text/plain": [
              "               Price                       Car  ...  Transmission Drivetrain\n",
              "count    4996.000000                      4996  ...          4996       4996\n",
              "unique           NaN                      1677  ...             5          6\n",
              "top              NaN  2018 Nissan Versa 1.6 SV  ...     Automatic        FWD\n",
              "freq             NaN                        73  ...          3646       4488\n",
              "mean     8183.432946                       NaN  ...           NaN        NaN\n",
              "std      1580.551286                       NaN  ...           NaN        NaN\n",
              "min      2450.000000                       NaN  ...           NaN        NaN\n",
              "25%      6997.000000                       NaN  ...           NaN        NaN\n",
              "50%      8498.000000                       NaN  ...           NaN        NaN\n",
              "75%      9500.000000                       NaN  ...           NaN        NaN\n",
              "max     10000.000000                       NaN  ...           NaN        NaN\n",
              "\n",
              "[11 rows x 7 columns]"
            ]
          },
          "metadata": {
            "tags": []
          },
          "execution_count": 215
        }
      ]
    },
    {
      "cell_type": "code",
      "metadata": {
        "id": "PMwJlxBlmodp",
        "colab_type": "code",
        "colab": {
          "base_uri": "https://localhost:8080/",
          "height": 151
        },
        "outputId": "89692dcf-cc6b-4b51-a721-d376e40c1cb3"
      },
      "source": [
        "# number of missing values\n",
        "df.isnull().sum()"
      ],
      "execution_count": 225,
      "outputs": [
        {
          "output_type": "execute_result",
          "data": {
            "text/plain": [
              "Price           0\n",
              "Car             0\n",
              "Mileage         3\n",
              "Ext_color       0\n",
              "Int_color       0\n",
              "Transmission    0\n",
              "Drivetrain      0\n",
              "dtype: int64"
            ]
          },
          "metadata": {
            "tags": []
          },
          "execution_count": 225
        }
      ]
    },
    {
      "cell_type": "code",
      "metadata": {
        "id": "M6hE2ZotG1uu",
        "colab_type": "code",
        "colab": {
          "base_uri": "https://localhost:8080/",
          "height": 402
        },
        "outputId": "aa077f6a-82e8-42ce-999a-2aa96210f6fa"
      },
      "source": [
        "df"
      ],
      "execution_count": 224,
      "outputs": [
        {
          "output_type": "execute_result",
          "data": {
            "text/html": [
              "<div>\n",
              "<style scoped>\n",
              "    .dataframe tbody tr th:only-of-type {\n",
              "        vertical-align: middle;\n",
              "    }\n",
              "\n",
              "    .dataframe tbody tr th {\n",
              "        vertical-align: top;\n",
              "    }\n",
              "\n",
              "    .dataframe thead th {\n",
              "        text-align: right;\n",
              "    }\n",
              "</style>\n",
              "<table border=\"1\" class=\"dataframe\">\n",
              "  <thead>\n",
              "    <tr style=\"text-align: right;\">\n",
              "      <th></th>\n",
              "      <th>Price</th>\n",
              "      <th>Car</th>\n",
              "      <th>Mileage</th>\n",
              "      <th>Ext_color</th>\n",
              "      <th>Int_color</th>\n",
              "      <th>Transmission</th>\n",
              "      <th>Drivetrain</th>\n",
              "    </tr>\n",
              "  </thead>\n",
              "  <tbody>\n",
              "    <tr>\n",
              "      <th>0</th>\n",
              "      <td>3999</td>\n",
              "      <td>2011 Audi A4 2.0T Premium</td>\n",
              "      <td>124128.0</td>\n",
              "      <td>White</td>\n",
              "      <td>Black</td>\n",
              "      <td>CVT</td>\n",
              "      <td>FWD</td>\n",
              "    </tr>\n",
              "    <tr>\n",
              "      <th>1</th>\n",
              "      <td>5999</td>\n",
              "      <td>2013 Nissan Altima 2.5 SL</td>\n",
              "      <td>85057.0</td>\n",
              "      <td>Black</td>\n",
              "      <td>Gray</td>\n",
              "      <td>CVT</td>\n",
              "      <td>FWD</td>\n",
              "    </tr>\n",
              "    <tr>\n",
              "      <th>2</th>\n",
              "      <td>9798</td>\n",
              "      <td>2017 Nissan Sentra SV</td>\n",
              "      <td>23773.0</td>\n",
              "      <td>Silve</td>\n",
              "      <td>Gray</td>\n",
              "      <td>CVT</td>\n",
              "      <td>FWD</td>\n",
              "    </tr>\n",
              "    <tr>\n",
              "      <th>3</th>\n",
              "      <td>9900</td>\n",
              "      <td>2015 Nissan Sentra SR</td>\n",
              "      <td>53007.0</td>\n",
              "      <td>Red</td>\n",
              "      <td>Gray</td>\n",
              "      <td>CVT</td>\n",
              "      <td>FWD</td>\n",
              "    </tr>\n",
              "    <tr>\n",
              "      <th>4</th>\n",
              "      <td>10000</td>\n",
              "      <td>2013 Volvo S60 T5</td>\n",
              "      <td>34647.0</td>\n",
              "      <td>Black</td>\n",
              "      <td>Beige</td>\n",
              "      <td>Automatic</td>\n",
              "      <td>FWD</td>\n",
              "    </tr>\n",
              "    <tr>\n",
              "      <th>...</th>\n",
              "      <td>...</td>\n",
              "      <td>...</td>\n",
              "      <td>...</td>\n",
              "      <td>...</td>\n",
              "      <td>...</td>\n",
              "      <td>...</td>\n",
              "      <td>...</td>\n",
              "    </tr>\n",
              "    <tr>\n",
              "      <th>4992</th>\n",
              "      <td>7490</td>\n",
              "      <td>2013 Hyundai Elantra GLS</td>\n",
              "      <td>123918.0</td>\n",
              "      <td>Blue</td>\n",
              "      <td>Gray</td>\n",
              "      <td>Automatic</td>\n",
              "      <td>FWD</td>\n",
              "    </tr>\n",
              "    <tr>\n",
              "      <th>4993</th>\n",
              "      <td>9990</td>\n",
              "      <td>2012 Toyota Camry L</td>\n",
              "      <td>136363.0</td>\n",
              "      <td>Black</td>\n",
              "      <td>Black</td>\n",
              "      <td>Automatic</td>\n",
              "      <td>FWD</td>\n",
              "    </tr>\n",
              "    <tr>\n",
              "      <th>4994</th>\n",
              "      <td>9180</td>\n",
              "      <td>2013 Kia Sorento LX</td>\n",
              "      <td>108888.0</td>\n",
              "      <td>Green</td>\n",
              "      <td>Othe</td>\n",
              "      <td>Automatic</td>\n",
              "      <td>FWD</td>\n",
              "    </tr>\n",
              "    <tr>\n",
              "      <th>4995</th>\n",
              "      <td>9998</td>\n",
              "      <td>2012 Mazda Mazda3 i Grand Touring</td>\n",
              "      <td>109749.0</td>\n",
              "      <td>Black</td>\n",
              "      <td>Black</td>\n",
              "      <td>Automatic</td>\n",
              "      <td>FWD</td>\n",
              "    </tr>\n",
              "    <tr>\n",
              "      <th>4996</th>\n",
              "      <td>9590</td>\n",
              "      <td>2012 MINI Cooper S Countryman Base</td>\n",
              "      <td>118251.0</td>\n",
              "      <td>White</td>\n",
              "      <td>Beige</td>\n",
              "      <td>Automatic</td>\n",
              "      <td>FWD</td>\n",
              "    </tr>\n",
              "  </tbody>\n",
              "</table>\n",
              "<p>4996 rows × 7 columns</p>\n",
              "</div>"
            ],
            "text/plain": [
              "      Price                                 Car  ...  Transmission Drivetrain\n",
              "0      3999           2011 Audi A4 2.0T Premium  ...           CVT        FWD\n",
              "1      5999           2013 Nissan Altima 2.5 SL  ...           CVT        FWD\n",
              "2      9798               2017 Nissan Sentra SV  ...           CVT        FWD\n",
              "3      9900               2015 Nissan Sentra SR  ...           CVT        FWD\n",
              "4     10000                   2013 Volvo S60 T5  ...     Automatic        FWD\n",
              "...     ...                                 ...  ...           ...        ...\n",
              "4992   7490            2013 Hyundai Elantra GLS  ...     Automatic        FWD\n",
              "4993   9990                 2012 Toyota Camry L  ...     Automatic        FWD\n",
              "4994   9180                 2013 Kia Sorento LX  ...     Automatic        FWD\n",
              "4995   9998   2012 Mazda Mazda3 i Grand Touring  ...     Automatic        FWD\n",
              "4996   9590  2012 MINI Cooper S Countryman Base  ...     Automatic        FWD\n",
              "\n",
              "[4996 rows x 7 columns]"
            ]
          },
          "metadata": {
            "tags": []
          },
          "execution_count": 224
        }
      ]
    },
    {
      "cell_type": "code",
      "metadata": {
        "id": "7ep57QSVgc00",
        "colab_type": "code",
        "colab": {
          "base_uri": "https://localhost:8080/",
          "height": 441
        },
        "outputId": "ab642321-71d9-4979-c48b-423ee50593a1"
      },
      "source": [
        "# quick plot price vs mileage\n",
        "sns.jointplot(x=\"Price\", y=\"Mileage\", data=df, kind='reg',joint_kws={'line_kws':{'color':'red'}});"
      ],
      "execution_count": 219,
      "outputs": [
        {
          "output_type": "display_data",
          "data": {
            "image/png": "[encoded data removed]",
            "text/plain": [
              "<Figure size 432x432 with 3 Axes>"
            ]
          },
          "metadata": {
            "tags": [],
            "needs_background": "light"
          }
        }
      ]
    },
    {
      "cell_type": "code",
      "metadata": {
        "id": "-kBXyPuzfrfj",
        "colab_type": "code",
        "colab": {}
      },
      "source": [
        "# save cleaned data to new csv\n",
        "df.to_csv('build_week_2_data_2.csv',index=False)"
      ],
      "execution_count": 221,
      "outputs": []
    }
  ]
}