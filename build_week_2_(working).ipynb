{
  "nbformat": 4,
  "nbformat_minor": 0,
  "metadata": {
    "colab": {
      "name": "build_week_2 (working).ipynb",
      "provenance": [],
      "collapsed_sections": [],
      "authorship_tag": "ABX9TyOdUH62E1tCH3KrU94Gm8J8",
      "include_colab_link": true
    },
    "kernelspec": {
      "name": "python3",
      "display_name": "Python 3"
    }
  },
  "cells": [
    {
      "cell_type": "markdown",
      "metadata": {
        "id": "view-in-github",
        "colab_type": "text"
      },
      "source": [
        "<a href=\"https://colab.research.google.com/github/Terrencebosco/Build_week_2/blob/master/build_week_2_(working).ipynb\" target=\"_parent\"><img src=\"https://colab.research.google.com/assets/colab-badge.svg\" alt=\"Open In Colab\"/></a>"
      ]
    },
    {
      "cell_type": "markdown",
      "metadata": {
        "id": "al1rszK1yno-",
        "colab_type": "text"
      },
      "source": [
        "## cleaning a formatting data set 1"
      ]
    },
    {
      "cell_type": "code",
      "metadata": {
        "id": "YVjIhq12ymm3",
        "colab_type": "code",
        "colab": {}
      },
      "source": [
        "#### for data set1\n",
        "\n",
        "# # read in data set 1\n",
        "# url = 'https://raw.githubusercontent.com/Terrencebosco/Build_week_2/master/build_week_2_data_2.csv'\n",
        "\n",
        "# df = pd.read_csv(url)\n",
        "\n",
        "# # feature engineering\n",
        "\n",
        "# # drop na\n",
        "# df = df.dropna(axis=0)\n",
        "\n",
        "# # new feature for car year\n",
        "# df['Car_year'] = df['car'].str.slice(stop=4)\n",
        "\n",
        "# # # # remove car year from car feature\n",
        "# # df['Car'] = df['Car'].str[4:]\n",
        "\n",
        "# # # get make of car feature\n",
        "# # df['Make'] = df['Car'].str.split().str.get(0)\n",
        "\n",
        "# # # remove make of car from 'car' feature\n",
        "# # df['Car'] = df['Car'].str.split(n=1).str[1]\n",
        "\n",
        "# # remove mini from \"cooper\" from 'Car' for consistancey\n",
        "# df['Make'] = df['Make'].replace('MINI','MINI Cooper')\n",
        "\n",
        "# # remove \"cooper\" from 'car' feature and add to 'Make' feature, for consistancy\n",
        "# df['Car'] = df['Car'].mask(df['Car'].str.contains('Cooper'),df['Car'].str.replace('Cooper',''))\n",
        "\n",
        "# # # change int color for consistancy\n",
        "# df['Int_color'] = df['Int_color'].replace({\n",
        "#     'Othe':'Other',\n",
        "#     'Brow':'Brown',\n",
        "#     'Silve':'Silver',\n",
        "#     'Gree':'Green'\n",
        "# })\n",
        "\n",
        "# # # change ext color for consistancy\n",
        "# df['Ext_color'] = df['Ext_color'].replace({\n",
        "#     'Othe':'Other',\n",
        "#     'Brow':'Brown',\n",
        "#     'Silve':'Silver',\n",
        "#     'Gree':'Green'\n",
        "# })"
      ],
      "execution_count": null,
      "outputs": []
    },
    {
      "cell_type": "markdown",
      "metadata": {
        "id": "oopAAo1Uyf3G",
        "colab_type": "text"
      },
      "source": [
        "## Cleaning and formatting data set 2"
      ]
    },
    {
      "cell_type": "code",
      "metadata": {
        "id": "0DMwTGiOAQR6",
        "colab_type": "code",
        "colab": {
          "base_uri": "https://localhost:8080/",
          "height": 33
        },
        "outputId": "74f20770-25e7-4d43-8e60-a9ed84414503"
      },
      "source": [
        "# imports\n",
        "!pip install category_encoders\n",
        "import pandas as pd\n",
        "import numpy as np\n",
        "import matplotlib.pyplot as plt\n",
        "from sklearn.metrics import mean_absolute_error\n",
        "import seaborn as sns\n",
        "import plotly\n",
        "from sklearn.linear_model import LinearRegression\n",
        "from sklearn.model_selection import train_test_split\n",
        "from sklearn.pipeline import make_pipeline\n",
        "import category_encoders as ce\n",
        "from sklearn.preprocessing import StandardScaler\n",
        "from sklearn import linear_model\n",
        "\n",
        "# read in data\n",
        "url = 'https://raw.githubusercontent.com/Terrencebosco/Build_week_2/master/test_data_2'\n",
        "df = pd.read_csv(url)\n",
        "\n",
        "# remove rows that do not match format of columns (out of order when scraped)\n",
        "columns_list = df.columns.to_list()\n",
        "for column in columns_list:\n",
        "    df = df[~df[column].str.contains('Stock:')]\n",
        "\n",
        "# remove 'certified'\n",
        "df['car'] = df['car'].mask(df['car'].str.contains('Certified'),df['car'].str.replace('Certified',''))\n",
        "\n",
        "df['car'] = df['car'].mask(df['car'].str.contains('Mileage:'),df['car'].str.replace('Mileage:',''))\n",
        "\n",
        "# remove spaces in front car names\n",
        "df['car'] = df['car'].str.strip(' ')\n",
        "\n",
        "# new feature for car year\n",
        "df['car_year'] = df['car'].str.slice(stop=4)\n",
        "\n",
        "# remove car year from car feature\n",
        "df['car'] = df['car'].str[5:]\n",
        "\n",
        "# # get make of car feature\n",
        "df['Make'] = df['car'].str.split().str.get(0)\n",
        "\n",
        "# remove make of car from 'car' feature\n",
        "df['car'] = df['car'].str.split(n=1).str[1]\n",
        "\n",
        "# remove mini from \"cooper\" from 'Car' for consistancey\n",
        "df['Make'] = df['Make'].replace('MINI','MINI Cooper')\n",
        "\n",
        "# remove \"cooper\" from 'car' feature and add to 'Make' feature, for consistancy\n",
        "df['car'] = df['car'].mask(df['car'].str.contains('Cooper'),df['car'].str.replace('Cooper',''))\n",
        "\n",
        "# make new color feature\n",
        "\n",
        "## ext color\n",
        "df['ext_color'] = df['ext_color'].str.strip('Exterior Color:')\n",
        "## int color\n",
        "df['int_color'] = df['int_color'].str.strip('Interior Color:')\n",
        "\n",
        "# remove straggling rows with miss match formatting (see function at top)\n",
        "columns_list = df.columns.to_list()\n",
        "for column in columns_list:\n",
        "    df = df[~df[column].str.contains('Interior Color')]\n",
        "\n",
        "# remove straggling rows with miss match formatting (see function at top)\n",
        "columns_list = df.columns.to_list()\n",
        "for column in columns_list:\n",
        "    df = df[~df[column].str.contains('VIN')]\n",
        "\n",
        "# remove straggling rows with miss match formatting (see function at top)\n",
        "columns_list = df.columns.to_list()\n",
        "for column in columns_list:\n",
        "    df = df[~df[column].str.contains(':')]\n",
        "\n",
        "# create engine size feature\n",
        "df[['size','engine']] = df['engine'].str.split(n=1, expand=True)\n",
        "\n",
        "# make new features based on engine\n",
        "\n",
        "## has flex fuel\n",
        "df['flex_fuel'] = np.where(df['engine'].str.contains('Flexible Fuel', case=False), 1, 0)\n",
        "## is hybrid\n",
        "df['hybrid'] = np.where(df['engine'].str.contains('Hybrid', case=False), 1, 0)\n",
        "## has turbo\n",
        "df['turbo'] = np.where(df['engine'].str.contains('turbo', case=False), 1, 0)\n",
        "\n",
        "# drop missing values \n",
        "df.fillna(value=np.nan, inplace=True)\n",
        "df.dropna(inplace=True)\n",
        "\n",
        "# remove unwanted strings from price\n",
        "df['price'] = df['price'].str.replace(',', '')\n",
        "df['price'] = df['price'].str.replace('$', '')\n",
        "\n",
        "# remove unwanted strings from mileage\n",
        "df['mileage'] = df['mileage'].replace('-- ',np.nan)\n",
        "df['mileage'] = df['mileage'].str.replace(',', '')\n",
        "df['mileage'] = df['mileage'].str.replace('miles', '')\n",
        "\n",
        "# color formatting\n",
        "## replace car colors with known color \n",
        "df.loc[df['ext_color'].str.contains('Maroon'), 'ext_color'] = 'Red'\n",
        "df.loc[df['ext_color'].str.contains('Magnetic'), 'ext_color'] = 'Grey'\n",
        "df.loc[df['ext_color'].str.contains('Green'), 'ext_color'] = 'Green'\n",
        "df.loc[df['ext_color'].str.contains('Gold'), 'ext_color'] = 'Gold'\n",
        "df.loc[df['ext_color'].str.contains('Sea'), 'ext_color'] = 'Blue'\n",
        "df.loc[df['ext_color'].str.contains('Brown'), 'ext_color'] = 'Brown'\n",
        "df.loc[df['ext_color'].str.contains('Metal'), 'ext_color'] = 'Silver'\n",
        "df.loc[df['ext_color'].str.contains('Cherry'), 'ext_color'] = 'Red'\n",
        "df.loc[df['ext_color'].str.contains('Pea'), 'ext_color'] = 'Green'\n",
        "df.loc[df['ext_color'].str.contains('Indigo'), 'ext_color'] = 'Blue'\n",
        "df.loc[df['ext_color'].str.contains('Tan'), 'ext_color'] = 'Brown'\n",
        "df.loc[df['ext_color'].str.contains('red'), 'ext_color'] = 'Red'\n",
        "df.loc[df['ext_color'].str.contains('Titanium'), 'ext_color'] = 'Silver'\n",
        "df.loc[df['ext_color'].str.contains('Yellow'), 'ext_color'] = 'Yellow'\n",
        "df.loc[df['ext_color'].str.contains('Wh'), 'ext_color'] = 'White'\n",
        "df.loc[df['ext_color'].str.contains('Silv'), 'ext_color'] = 'Silver'\n",
        "df.loc[df['ext_color'].str.contains('Grey'), 'ext_color'] = 'Grey'\n",
        "df.loc[df['ext_color'].str.contains('Red'), 'ext_color'] = 'Red'\n",
        "df.loc[df['ext_color'].str.contains('White'), 'ext_color'] = 'White'\n",
        "df.loc[df['ext_color'].str.contains('Black'), 'ext_color'] = 'Black'\n",
        "df.loc[df['ext_color'].str.contains('Blu'), 'ext_color'] = 'Blue'\n",
        "df.loc[df['ext_color'].str.contains('Graph'), 'ext_color'] = 'Grey'\n",
        "df.loc[df['ext_color'].str.contains('Granite'), 'ext_color'] = 'Grey'\n",
        "df.loc[df['ext_color'].str.contains('Powd'), 'ext_color'] = 'White'\n",
        "df.loc[df['ext_color'].str.contains('Wh'), 'ext_color'] = 'White'\n",
        "df.loc[df['ext_color'].str.contains('Gun'), 'ext_color'] = 'Grey'\n",
        "df.loc[df['ext_color'].str.contains('Burgundy'), 'ext_color'] = 'Red'\n",
        "\n",
        "## format known int car color\n",
        "df.loc[df['int_color'].str.contains('Black'), 'int_color'] = 'Black'\n",
        "df.loc[df['int_color'].str.contains('Gray'), 'int_color'] = 'Gray'\n",
        "df.loc[df['int_color'].str.contains('Beig'), 'int_color'] = 'Beige'\n",
        "df.loc[df['int_color'].str.contains('black'), 'int_color'] = 'Black'\n",
        "df.loc[df['int_color'].str.contains('Blu'), 'int_color'] = 'Blue'\n",
        "df.loc[df['int_color'].str.contains('BLACK'), 'int_color'] = 'Black'\n",
        "df.loc[df['int_color'].str.contains('GRAY'), 'int_color'] = 'Gray'\n",
        "df.loc[df['int_color'].str.contains('Grey'), 'int_color'] = 'Gray'\n",
        "df.loc[df['int_color'].str.contains('Browns'), 'int_color'] = 'Brown'\n",
        "df.loc[df['int_color'].str.contains('Brown'), 'int_color'] = 'Brown'\n",
        "df.loc[df['int_color'].str.contains('Ta'), 'int_color'] = 'Brown'\n",
        "df.loc[df['int_color'].str.contains('Medium Light S'), 'int_color'] = 'Gray'\n",
        "df.loc[df['int_color'].str.contains('Ebony'), 'int_color'] = 'Brown'\n",
        "df.loc[df['int_color'].str.contains('Ash'), 'int_color'] = 'Gray'\n",
        "\n",
        "# get list of colors i want\n",
        "int_color =  df['int_color'].value_counts().head(5).index.to_list()\n",
        "\n",
        "# chance all colors no known to 'other' (from list)\n",
        "df.loc[~df['int_color'].isin(car_color), 'int_color'] = 'Other'\n",
        "\n",
        "# get list of colors i want\n",
        "car_color =  df['ext_color'].value_counts().head(10).index.to_list()\n",
        "\n",
        "# chance all colors no known to 'other' (from list)\n",
        "df.loc[~df['ext_color'].isin(car_color), 'ext_color'] = 'Other'\n",
        "\n",
        "# change type for numeric features \n",
        "df['price'] = pd.to_numeric(df['price'])\n",
        "df['mileage'] = pd.to_numeric(df['mileage'])\n",
        "\n",
        "# remove outliers\n",
        "df = df[df['mileage']<=250000]\n",
        "\n",
        "# re index data frame\n",
        "df = df.reindex()\n",
        "\n",
        "# shape\n",
        "df.shape"
      ],
      "execution_count": 519,
      "outputs": [
        {
          "output_type": "execute_result",
          "data": {
            "text/plain": [
              "(2307, 16)"
            ]
          },
          "metadata": {
            "tags": []
          },
          "execution_count": 519
        }
      ]
    },
    {
      "cell_type": "code",
      "metadata": {
        "id": "faqT9KLry4DS",
        "colab_type": "code",
        "colab": {}
      },
      "source": [
        "## make csv for git up \n",
        "# df.to_csv('clean_data_set_2_v2', index=False)"
      ],
      "execution_count": 525,
      "outputs": []
    },
    {
      "cell_type": "markdown",
      "metadata": {
        "id": "WPwzlKl9yUc8",
        "colab_type": "text"
      },
      "source": [
        "## EDA data set 2"
      ]
    },
    {
      "cell_type": "code",
      "metadata": {
        "id": "07XqMYAMJF4u",
        "colab_type": "code",
        "colab": {
          "base_uri": "https://localhost:8080/",
          "height": 441
        },
        "outputId": "00d402b1-e5ab-4a8c-9bc4-0a83bd6fcf9b"
      },
      "source": [
        "# quick plot price vs mileage\n",
        "sns.jointplot(x=\"price\", y=\"mileage\", data=df, kind='reg',joint_kws={'line_kws':{'color':'red'}});"
      ],
      "execution_count": 416,
      "outputs": [
        {
          "output_type": "display_data",
          "data": {
            "image/png": "[encoded data removed]",
            "text/plain": [
              "<Figure size 432x432 with 3 Axes>"
            ]
          },
          "metadata": {
            "tags": [],
            "needs_background": "light"
          }
        }
      ]
    },
    {
      "cell_type": "markdown",
      "metadata": {
        "id": "s7fmfJ8IywSa",
        "colab_type": "text"
      },
      "source": [
        "## model selection data set 2"
      ]
    },
    {
      "cell_type": "code",
      "metadata": {
        "id": "VO2ZVrFhzW1Y",
        "colab_type": "code",
        "colab": {
          "base_uri": "https://localhost:8080/",
          "height": 33
        },
        "outputId": "73de179b-7ed6-4bc5-a913-1158ba64acd2"
      },
      "source": [
        "# get base line prediction and measn absolute score\n",
        "\n",
        "#. get mean\n",
        "price_mean = df['price'].mean()\n",
        "\n",
        "#. get prediction with mean\n",
        "y_pred = [price_mean] * len(df['price'])\n",
        "\n",
        "#. get base line score\n",
        "baseline = mean_absolute_error(y_pred,df['price'])\n",
        "                               \n",
        "print(f'Baseline error of {baseline:.2f} if mean was used')"
      ],
      "execution_count": 437,
      "outputs": [
        {
          "output_type": "stream",
          "text": [
            "Baseline error of 1381.91 if mean was used\n"
          ],
          "name": "stdout"
        }
      ]
    },
    {
      "cell_type": "code",
      "metadata": {
        "id": "Q71fSPhGFdBj",
        "colab_type": "code",
        "colab": {
          "base_uri": "https://localhost:8080/",
          "height": 33
        },
        "outputId": "b17da541-8f00-487a-e917-d076392c566c"
      },
      "source": [
        "# train, val test split @ 20% for test and val.\n",
        "train, test = train_test_split(df, test_size=.2, random_state=42)\n",
        "train, val = train_test_split(train, test_size=.2, random_state=42)\n",
        "\n",
        "# get target and features\n",
        "target = 'price'\n",
        "features = df.drop(target, axis=1).columns.to_list()\n",
        "\n",
        "# get feature matrix\n",
        "X_train = train[features]\n",
        "X_val = val[features]\n",
        "X_test = test[features]\n",
        "\n",
        "# get target vectors\n",
        "y_train = train[target]\n",
        "y_val = val[target]\n",
        "y_test = test[target]\n",
        "\n",
        "##################### test ###########################\n",
        "\n",
        "# one hot encoding\n",
        "encoder = ce.OneHotEncoder(use_cat_names=True)\n",
        "X_train_encoded = encoder.fit_transform(X_train)\n",
        "X_val_encoded = encoder.transform(X_val)\n",
        "\n",
        "# scale encoded\n",
        "scaler = StandardScaler()\n",
        "X_train_scaled = scaler.fit_transform(X_train_encoded)\n",
        "X_val_scaled = scaler.transform(X_val_encoded)\n",
        "\n",
        "# lasso prediction\n",
        "lasso = linear_model.Lasso()\n",
        "lasso.fit(X_train_encoded,y_train)\n",
        "y_pred = lasso.predict(X_val_encoded)\n",
        "mean_absolute_error(y_val, y_pred)"
      ],
      "execution_count": 523,
      "outputs": [
        {
          "output_type": "execute_result",
          "data": {
            "text/plain": [
              "920.6190886455197"
            ]
          },
          "metadata": {
            "tags": []
          },
          "execution_count": 523
        }
      ]
    },
    {
      "cell_type": "code",
      "metadata": {
        "id": "HaJCjNemF7s0",
        "colab_type": "code",
        "colab": {
          "base_uri": "https://localhost:8080/",
          "height": 67
        },
        "outputId": "2dff9e42-33a0-442e-f50b-7817ba0cea95"
      },
      "source": [
        "# check shape \n",
        "print('Splits shape:', train.shape, val.shape, test.shape)\n",
        "print('Feature matrix shape:', X_train.shape, X_val.shape, X_test.shape)\n",
        "print('Target vector shape:', y_train.shape, y_val.shape, y_test.shape)"
      ],
      "execution_count": 275,
      "outputs": [
        {
          "output_type": "stream",
          "text": [
            "Splits shape: (1536, 12) (384, 12) (480, 12)\n",
            "Feature matrix shape: (1536, 11) (384, 11) (480, 11)\n",
            "Target vector shape: (1536,) (384,) (480,)\n"
          ],
          "name": "stdout"
        }
      ]
    },
    {
      "cell_type": "code",
      "metadata": {
        "id": "DJdirGkI_kzi",
        "colab_type": "code",
        "colab": {}
      },
      "source": [
        "# # ordinal encoding\n",
        "# encoder = ce.OrdinalEncoder()\n",
        "# X_train_encoded = encoder.fit_transform(X_train)\n",
        "\n",
        "# X_val_encoded = encoder.transform(X_val)"
      ],
      "execution_count": null,
      "outputs": []
    },
    {
      "cell_type": "code",
      "metadata": {
        "id": "3PfIzTSvDfh9",
        "colab_type": "code",
        "colab": {}
      },
      "source": [
        "# one hot encoding\n",
        "encoder = ce.OneHotEncoder(use_cat_names=True)\n",
        "X_train_encoded = encoder.fit_transform(X_train)\n",
        "\n",
        "X_val_encoded = encoder.transform(X_val)"
      ],
      "execution_count": 451,
      "outputs": []
    },
    {
      "cell_type": "code",
      "metadata": {
        "id": "BdGBOePCEiIp",
        "colab_type": "code",
        "colab": {
          "base_uri": "https://localhost:8080/",
          "height": 33
        },
        "outputId": "484c3930-6844-4dad-9c18-eea4cd33ad80"
      },
      "source": [
        "# one hot encoding\n",
        "encoder = ce.OneHotEncoder(use_cat_names=True)\n",
        "X_train_encoded = encoder.fit_transform(X_train)\n",
        "\n",
        "X_val_encoded = encoder.transform(X_val)\n",
        "\n",
        "# scale encoded\n",
        "scaler = StandardScaler()\n",
        "\n",
        "X_train_scaled = scaler.fit_transform(X_train_encoded)\n",
        "\n",
        "X_val_scaled = scaler.transform(X_val_encoded)\n",
        "\n",
        "# lasso prediction\n",
        "lasso = linear_model.Lasso()\n",
        "\n",
        "lasso.fit(X_train_encoded,y_train)\n",
        "\n",
        "y_pred = lasso.predict(X_val_encoded)\n",
        "mean_absolute_error(y_val, y_pred)"
      ],
      "execution_count": 455,
      "outputs": [
        {
          "output_type": "execute_result",
          "data": {
            "text/plain": [
              "959.6593367634464"
            ]
          },
          "metadata": {
            "tags": []
          },
          "execution_count": 455
        }
      ]
    },
    {
      "cell_type": "code",
      "metadata": {
        "id": "SwCRrRjw_yLL",
        "colab_type": "code",
        "colab": {
          "base_uri": "https://localhost:8080/",
          "height": 33
        },
        "outputId": "f28f2962-58c3-462b-cd8e-596032e2d56c"
      },
      "source": [
        "# lasso prediction\n",
        "lasso = linear_model.Lasso()\n",
        "\n",
        "lasso.fit(X_train_encoded,y_train)\n",
        "\n",
        "y_pred = lasso.predict(X_val_encoded)\n",
        "mean_absolute_error(y_val, y_pred)"
      ],
      "execution_count": 453,
      "outputs": [
        {
          "output_type": "execute_result",
          "data": {
            "text/plain": [
              "959.3888986234053"
            ]
          },
          "metadata": {
            "tags": []
          },
          "execution_count": 453
        }
      ]
    },
    {
      "cell_type": "code",
      "metadata": {
        "id": "au4SK9PQ_xk2",
        "colab_type": "code",
        "colab": {
          "base_uri": "https://localhost:8080/",
          "height": 33
        },
        "outputId": "17adb0d6-4e5a-4a1c-a465-0e1899ffb0b8"
      },
      "source": [
        "# ridge regression prediction\n",
        "ridge = linear_model.Ridge(alpha=.01)\n",
        "\n",
        "ridge.fit(X_train_encoded,y_train)\n",
        "\n",
        "y_pred = lasso.predict(X_val_encoded)\n",
        "mean_absolute_error(y_val, y_pred)"
      ],
      "execution_count": 281,
      "outputs": [
        {
          "output_type": "execute_result",
          "data": {
            "text/plain": [
              "998.4969908977156"
            ]
          },
          "metadata": {
            "tags": []
          },
          "execution_count": 281
        }
      ]
    },
    {
      "cell_type": "code",
      "metadata": {
        "id": "s8Uhwg62_xgs",
        "colab_type": "code",
        "colab": {
          "base_uri": "https://localhost:8080/",
          "height": 33
        },
        "outputId": "4e73e005-8b84-4aed-c755-9f1da740c663"
      },
      "source": [
        "# ridgeCV prediction\n",
        "ridge_cv = linear_model.RidgeClassifierCV(alphas=[.1])\n",
        "\n",
        "ridge_cv.fit(X_train_encoded,y_train)\n",
        "\n",
        "y_pred = lasso.predict(X_val_encoded)\n",
        "mean_absolute_error(y_val, y_pred)"
      ],
      "execution_count": 280,
      "outputs": [
        {
          "output_type": "execute_result",
          "data": {
            "text/plain": [
              "998.4969908977156"
            ]
          },
          "metadata": {
            "tags": []
          },
          "execution_count": 280
        }
      ]
    },
    {
      "cell_type": "code",
      "metadata": {
        "id": "3qDmxgKWGakz",
        "colab_type": "code",
        "colab": {}
      },
      "source": [
        "# simple pipeline\n",
        "pipeline = make_pipeline(\n",
        "    ce.OneHotEncoder(use_cat_names=True),\n",
        "    LinearRegression(),\n",
        ")\n",
        "\n",
        "# simple ML prediction\n",
        "pipeline.fit(X_train, y_train);"
      ],
      "execution_count": 282,
      "outputs": []
    },
    {
      "cell_type": "code",
      "metadata": {
        "id": "aSSg81hNIyhy",
        "colab_type": "code",
        "colab": {
          "base_uri": "https://localhost:8080/",
          "height": 33
        },
        "outputId": "7d609e50-635e-4610-fb12-1a8247ed679a"
      },
      "source": [
        "# simple model mean_absolute_error score.\n",
        "y_pred = pipeline.predict(X_val)\n",
        "\n",
        "mean_absolute_error(y_val, y_pred)"
      ],
      "execution_count": 283,
      "outputs": [
        {
          "output_type": "execute_result",
          "data": {
            "text/plain": [
              "1948632294.9774125"
            ]
          },
          "metadata": {
            "tags": []
          },
          "execution_count": 283
        }
      ]
    }
  ]
}