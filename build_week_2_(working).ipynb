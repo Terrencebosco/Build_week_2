{
  "nbformat": 4,
  "nbformat_minor": 0,
  "metadata": {
    "colab": {
      "name": "build_week_2 (working).ipynb",
      "provenance": [],
      "collapsed_sections": [],
      "authorship_tag": "ABX9TyODYqV7Y5mtN+ehUTcnehaE",
      "include_colab_link": true
    },
    "kernelspec": {
      "name": "python3",
      "display_name": "Python 3"
    }
  },
  "cells": [
    {
      "cell_type": "markdown",
      "metadata": {
        "id": "view-in-github",
        "colab_type": "text"
      },
      "source": [
        "<a href=\"https://colab.research.google.com/github/Terrencebosco/Build_week_2/blob/master/build_week_2_(working).ipynb\" target=\"_parent\"><img src=\"https://colab.research.google.com/assets/colab-badge.svg\" alt=\"Open In Colab\"/></a>"
      ]
    },
    {
      "cell_type": "markdown",
      "metadata": {
        "id": "al1rszK1yno-",
        "colab_type": "text"
      },
      "source": [
        "## cleaning a formatting data set 1"
      ]
    },
    {
      "cell_type": "code",
      "metadata": {
        "id": "YVjIhq12ymm3",
        "colab_type": "code",
        "colab": {}
      },
      "source": [
        "#### for data set1\n",
        "\n",
        "# # read in data set 1\n",
        "# url = 'https://raw.githubusercontent.com/Terrencebosco/Build_week_2/master/build_week_2_data_2.csv'\n",
        "\n",
        "# df = pd.read_csv(url)\n",
        "\n",
        "# # feature engineering\n",
        "\n",
        "# # drop na\n",
        "# df = df.dropna(axis=0)\n",
        "\n",
        "# # new feature for car year\n",
        "# df['Car_year'] = df['car'].str.slice(stop=4)\n",
        "\n",
        "# # # # remove car year from car feature\n",
        "# # df['Car'] = df['Car'].str[4:]\n",
        "\n",
        "# # # get make of car feature\n",
        "# # df['Make'] = df['Car'].str.split().str.get(0)\n",
        "\n",
        "# # # remove make of car from 'car' feature\n",
        "# # df['Car'] = df['Car'].str.split(n=1).str[1]\n",
        "\n",
        "# # remove mini from \"cooper\" from 'Car' for consistancey\n",
        "# df['Make'] = df['Make'].replace('MINI','MINI Cooper')\n",
        "\n",
        "# # remove \"cooper\" from 'car' feature and add to 'Make' feature, for consistancy\n",
        "# df['Car'] = df['Car'].mask(df['Car'].str.contains('Cooper'),df['Car'].str.replace('Cooper',''))\n",
        "\n",
        "# # # change int color for consistancy\n",
        "# df['Int_color'] = df['Int_color'].replace({\n",
        "#     'Othe':'Other',\n",
        "#     'Brow':'Brown',\n",
        "#     'Silve':'Silver',\n",
        "#     'Gree':'Green'\n",
        "# })\n",
        "\n",
        "# # # change ext color for consistancy\n",
        "# df['Ext_color'] = df['Ext_color'].replace({\n",
        "#     'Othe':'Other',\n",
        "#     'Brow':'Brown',\n",
        "#     'Silve':'Silver',\n",
        "#     'Gree':'Green'\n",
        "# })"
      ],
      "execution_count": 6,
      "outputs": []
    },
    {
      "cell_type": "markdown",
      "metadata": {
        "id": "oopAAo1Uyf3G",
        "colab_type": "text"
      },
      "source": [
        "## Cleaning and formatting data set 2"
      ]
    },
    {
      "cell_type": "code",
      "metadata": {
        "id": "0DMwTGiOAQR6",
        "colab_type": "code",
        "colab": {
          "base_uri": "https://localhost:8080/",
          "height": 269
        },
        "outputId": "c768cea3-43b3-4c26-c5b0-ddb9f7b01c5a"
      },
      "source": [
        "# imports\n",
        "!pip install category_encoders\n",
        "!pip install xgboost\n",
        "import pandas as pd\n",
        "import numpy as np\n",
        "import matplotlib.pyplot as plt\n",
        "from sklearn.metrics import mean_absolute_error\n",
        "import seaborn as sns\n",
        "from sklearn.linear_model import LinearRegression\n",
        "from sklearn.model_selection import train_test_split\n",
        "from sklearn.pipeline import make_pipeline\n",
        "import category_encoders as ce\n",
        "from sklearn.preprocessing import StandardScaler\n",
        "from sklearn import linear_model\n",
        "from sklearn.model_selection import RandomizedSearchCV\n",
        "from sklearn.ensemble import RandomForestRegressor\n",
        "import xgboost as xgb\n",
        "\n",
        "# read in data\n",
        "url = 'https://raw.githubusercontent.com/Terrencebosco/Build_week_2/master/test_data_2'\n",
        "df = pd.read_csv(url)\n",
        "\n",
        "# remove rows that do not match format of columns (out of order when scraped)\n",
        "columns_list = df.columns.to_list()\n",
        "for column in columns_list:\n",
        "    df = df[~df[column].str.contains('Stock:')]\n",
        "\n",
        "# remove 'certified'\n",
        "df['car'] = df['car'].mask(df['car'].str.contains('Certified'),df['car'].str.replace('Certified',''))\n",
        "\n",
        "df['car'] = df['car'].mask(df['car'].str.contains('Mileage:'),df['car'].str.replace('Mileage:',''))\n",
        "\n",
        "# remove spaces in front car names\n",
        "df['car'] = df['car'].str.strip(' ')\n",
        "\n",
        "# new feature for car year\n",
        "df['car_year'] = df['car'].str.slice(stop=4)\n",
        "\n",
        "# remove car year from car feature\n",
        "df['car'] = df['car'].str[5:]\n",
        "\n",
        "# # get make of car feature\n",
        "df['make'] = df['car'].str.split().str.get(0)\n",
        "# remove make of car from 'car' feature\n",
        "df['car'] = df['car'].str.split(n=1).str[1]\n",
        "\n",
        "# # make feature for the type model of car\n",
        "# df['car_type'] = df['car'].str.split().str.get(0)\n",
        "# df['car'] = df['car'].str.split(n=1).str[1]\n",
        "\n",
        "# # remove mini from \"cooper\" from 'Car' for consistancey\n",
        "# df['make'] = df['make'].replace('MINI','MINI Cooper')\n",
        "\n",
        "# # remove \"cooper\" from 'car' feature and add to 'Make' feature, for consistancy\n",
        "# df['car'] = df['car'].mask(df['car'].str.contains('Cooper'),df['car'].str.replace('Cooper',''))\n",
        "\n",
        "# # chaneg transmission from multi type to binary\n",
        "# df['transmission'] = np.where(df['transmission'].str.contains('automatic', case=False), 1 ,0)\n",
        "# make new color feature\n",
        "\n",
        "## ext color\n",
        "df['ext_color'] = df['ext_color'].str.strip('Exterior Color:')\n",
        "## int color\n",
        "df['int_color'] = df['int_color'].str.strip('Interior Color:')\n",
        "\n",
        "# remove straggling rows with miss match formatting (see function at top)\n",
        "columns_list = df.columns.to_list()\n",
        "for column in columns_list:\n",
        "    df = df[~df[column].str.contains('Interior Color')]\n",
        "\n",
        "# remove straggling rows with miss match formatting (see function at top)\n",
        "columns_list = df.columns.to_list()\n",
        "for column in columns_list:\n",
        "    df = df[~df[column].str.contains('VIN')]\n",
        "\n",
        "# remove straggling rows with miss match formatting (see function at top)\n",
        "columns_list = df.columns.to_list()\n",
        "for column in columns_list:\n",
        "    df = df[~df[column].str.contains(':')]\n",
        "\n",
        "df['engine'] = df['engine'].str.strip('Gas')\n",
        "df['engine'] = df['engine'].str.strip('Regular')\n",
        "df['engine'] = df['engine'].str.strip('Unleaded ')\n",
        "# df['engine'] = df['engine'].str.strip('-Cyl')\n",
        "df['engine'] = df['engine'].str.strip('I4 ')\n",
        "\n",
        "# create engine size feature\n",
        "df[['size','engine']] = df['engine'].str.split(n=1, expand=True)\n",
        "df['size'] = df['size'].str.strip('L')\n",
        "df['size'] = df['size'].str.strip('-')\n",
        "\n",
        "# chaneg transmission from multi type to binary\n",
        "df['transmission'] = np.where(df['transmission'].str.contains('automatic', case=False), 1 ,0)\n",
        "\n",
        "# make new features based on engine\n",
        "## has flex fuel\n",
        "df['flex_fuel'] = np.where(df['engine'].str.contains('Flexible Fuel', case=False), 1, 0)\n",
        "## is hybrid\n",
        "df['hybrid'] = np.where(df['engine'].str.contains('Hybrid', case=False), 1, 0)\n",
        "## has turbo\n",
        "df['turbo'] = np.where(df['engine'].str.contains('turbo', case=False), 1, 0)\n",
        "df['turbo'] = np.where(df['engine'].str.contains('Turbocharged', case=False), 1, 0)\n",
        "\n",
        "#sperate drivetrain into new columns for computation\n",
        "df['rear_wheel_drive'] = np.where(df['drivetrain'].str.contains('RWD',case=False), 1, 0)\n",
        "df['all_wheel_drive'] = np.where(df['drivetrain'].str.contains('4WD|4X4|AWD'), 1, 0)\n",
        "df['front_wheel_drive'] = np.where(df['drivetrain'].str.contains('FWD|2WD', case=False), 1, 0)\n",
        "df = df.drop(columns='drivetrain')\n",
        "\n",
        "# drop missing values \n",
        "df.fillna(value=np.nan, inplace=True)\n",
        "df.dropna(inplace=True)\n",
        "\n",
        "# remove unwanted strings from price\n",
        "df['price'] = df['price'].str.replace(',', '')\n",
        "df['price'] = df['price'].str.replace('$', '')\n",
        "\n",
        "# remove unwanted strings from mileage\n",
        "df['mileage'] = df['mileage'].replace('-- ',np.nan)\n",
        "df['mileage'] = df['mileage'].str.replace(',', '')\n",
        "df['mileage'] = df['mileage'].str.replace('miles', '')\n",
        "\n",
        "# make feature for the type model of car\n",
        "df['car_type'] = df['car'].str.split().str.get(0)\n",
        "df['car'] = df['car'].str.split(n=1).str[1]\n",
        "\n",
        "\n",
        "# color formatting\n",
        "## replace car colors with known color \n",
        "df.loc[df['ext_color'].str.contains('Maroon'), 'ext_color'] = 'Red'\n",
        "df.loc[df['ext_color'].str.contains('Magnetic'), 'ext_color'] = 'Grey'\n",
        "df.loc[df['ext_color'].str.contains('Green'), 'ext_color'] = 'Green'\n",
        "df.loc[df['ext_color'].str.contains('Gold'), 'ext_color'] = 'Gold'\n",
        "df.loc[df['ext_color'].str.contains('Sea'), 'ext_color'] = 'Blue'\n",
        "df.loc[df['ext_color'].str.contains('Brown'), 'ext_color'] = 'Brown'\n",
        "df.loc[df['ext_color'].str.contains('Metal'), 'ext_color'] = 'Silver'\n",
        "df.loc[df['ext_color'].str.contains('Cherry'), 'ext_color'] = 'Red'\n",
        "df.loc[df['ext_color'].str.contains('Pea'), 'ext_color'] = 'Green'\n",
        "df.loc[df['ext_color'].str.contains('Indigo'), 'ext_color'] = 'Blue'\n",
        "df.loc[df['ext_color'].str.contains('Tan'), 'ext_color'] = 'Brown'\n",
        "df.loc[df['ext_color'].str.contains('red'), 'ext_color'] = 'Red'\n",
        "df.loc[df['ext_color'].str.contains('Titanium'), 'ext_color'] = 'Silver'\n",
        "df.loc[df['ext_color'].str.contains('Yellow'), 'ext_color'] = 'Yellow'\n",
        "df.loc[df['ext_color'].str.contains('Wh'), 'ext_color'] = 'White'\n",
        "df.loc[df['ext_color'].str.contains('Silv'), 'ext_color'] = 'Silver'\n",
        "df.loc[df['ext_color'].str.contains('Grey'), 'ext_color'] = 'Grey'\n",
        "df.loc[df['ext_color'].str.contains('Red'), 'ext_color'] = 'Red'\n",
        "df.loc[df['ext_color'].str.contains('White'), 'ext_color'] = 'White'\n",
        "df.loc[df['ext_color'].str.contains('Black'), 'ext_color'] = 'Black'\n",
        "df.loc[df['ext_color'].str.contains('Blu'), 'ext_color'] = 'Blue'\n",
        "df.loc[df['ext_color'].str.contains('Graph'), 'ext_color'] = 'Grey'\n",
        "df.loc[df['ext_color'].str.contains('Granite'), 'ext_color'] = 'Grey'\n",
        "df.loc[df['ext_color'].str.contains('Powd'), 'ext_color'] = 'White'\n",
        "df.loc[df['ext_color'].str.contains('Wh'), 'ext_color'] = 'White'\n",
        "df.loc[df['ext_color'].str.contains('Gun'), 'ext_color'] = 'Grey'\n",
        "df.loc[df['ext_color'].str.contains('Burgundy'), 'ext_color'] = 'Red'\n",
        "\n",
        "## format known int car color\n",
        "df.loc[df['int_color'].str.contains('Black'), 'int_color'] = 'Black'\n",
        "df.loc[df['int_color'].str.contains('Gray'), 'int_color'] = 'Gray'\n",
        "df.loc[df['int_color'].str.contains('Beig'), 'int_color'] = 'Beige'\n",
        "df.loc[df['int_color'].str.contains('black'), 'int_color'] = 'Black'\n",
        "df.loc[df['int_color'].str.contains('Blu'), 'int_color'] = 'Blue'\n",
        "df.loc[df['int_color'].str.contains('BLACK'), 'int_color'] = 'Black'\n",
        "df.loc[df['int_color'].str.contains('GRAY'), 'int_color'] = 'Gray'\n",
        "df.loc[df['int_color'].str.contains('Grey'), 'int_color'] = 'Gray'\n",
        "df.loc[df['int_color'].str.contains('Browns'), 'int_color'] = 'Brown'\n",
        "df.loc[df['int_color'].str.contains('Brown'), 'int_color'] = 'Brown'\n",
        "df.loc[df['int_color'].str.contains('Ta'), 'int_color'] = 'Brown'\n",
        "df.loc[df['int_color'].str.contains('Medium Light S'), 'int_color'] = 'Gray'\n",
        "df.loc[df['int_color'].str.contains('Ebony'), 'int_color'] = 'Brown'\n",
        "df.loc[df['int_color'].str.contains('Ash'), 'int_color'] = 'Gray'\n",
        "\n",
        "# get list of int colors i want\n",
        "int_color =  df['int_color'].value_counts().head(5).index.to_list()\n",
        "# chance all colors no known to 'other' (from list)\n",
        "df.loc[~df['int_color'].isin(int_color), 'int_color'] = 'Other'\n",
        "\n",
        "# get list of colors i want\n",
        "car_color =  df['ext_color'].value_counts().head(10).index.to_list()\n",
        "# chance all colors no known to 'other' (from list)\n",
        "df.loc[~df['ext_color'].isin(car_color), 'ext_color'] = 'Other'\n",
        "\n",
        "# remove missformated rows\n",
        "drop_list = ['Turbocharged','/Electric','ntercooled','/Ethanol','ECOTEC','Cyl','V-6','V6']\n",
        "for i in drop_list:\n",
        "    df = df[~df['size'].str.contains(i)]\n",
        "\n",
        "# change type for numeric features \n",
        "to_num_list = ['city_mpg', 'high_mpg', 'car_year','price', 'mileage', 'size']\n",
        "for i in to_num_list:\n",
        "    df[i] = pd.to_numeric(df[i])\n",
        "\n",
        "# remove outliers\n",
        "df = df[df['mileage']<=250000]\n",
        "\n",
        "# re index data frame\n",
        "df = df.reindex()\n",
        "\n",
        "def replace_spaces_with_underscore_in_column_names_and_make_lowercasee(df):\n",
        "  \"\"\"\n",
        "  Accepts a dataframe.\n",
        "  Alters column names- replacing spaces with '_' and column names lowercase.\n",
        "  Returns a dataframe.\n",
        "  \"\"\"\n",
        "  labels = list(df.columns)\n",
        "  for i in range(len(df.columns)):\n",
        "    labels[i] = labels[i].replace(' ', '_')\n",
        "    labels[i] = labels[i].lower()\n",
        "  df.columns = labels\n",
        "  return df\n",
        "# Invokes the function\n",
        "df = replace_spaces_with_underscore_in_column_names_and_make_lowercasee(df)\n",
        "\n",
        "# shape\n",
        "df.shape"
      ],
      "execution_count": 7,
      "outputs": [
        {
          "output_type": "stream",
          "text": [
            "Requirement already satisfied: category_encoders in c:\\users\\terrence\\anaconda3\\lib\\site-packages (2.2.2)\n",
            "Requirement already satisfied: patsy>=0.5.1 in c:\\users\\terrence\\anaconda3\\lib\\site-packages (from category_encoders) (0.5.1)\n",
            "Requirement already satisfied: numpy>=1.14.0 in c:\\users\\terrence\\anaconda3\\lib\\site-packages (from category_encoders) (1.18.1)\n",
            "Requirement already satisfied: scipy>=1.0.0 in c:\\users\\terrence\\anaconda3\\lib\\site-packages (from category_encoders) (1.4.1)\n",
            "Requirement already satisfied: statsmodels>=0.9.0 in c:\\users\\terrence\\anaconda3\\lib\\site-packages (from category_encoders) (0.11.0)\n",
            "Requirement already satisfied: pandas>=0.21.1 in c:\\users\\terrence\\anaconda3\\lib\\site-packages (from category_encoders) (1.0.5)\n",
            "Requirement already satisfied: scikit-learn>=0.20.0 in c:\\users\\terrence\\anaconda3\\lib\\site-packages (from category_encoders) (0.22.1)\n",
            "Requirement already satisfied: six in c:\\users\\terrence\\anaconda3\\lib\\site-packages (from patsy>=0.5.1->category_encoders) (1.14.0)\n",
            "Requirement already satisfied: pytz>=2017.2 in c:\\users\\terrence\\anaconda3\\lib\\site-packages (from pandas>=0.21.1->category_encoders) (2019.3)\n",
            "Requirement already satisfied: python-dateutil>=2.6.1 in c:\\users\\terrence\\anaconda3\\lib\\site-packages (from pandas>=0.21.1->category_encoders) (2.8.1)\n",
            "Requirement already satisfied: joblib>=0.11 in c:\\users\\terrence\\anaconda3\\lib\\site-packages (from scikit-learn>=0.20.0->category_encoders) (0.14.1)\n",
            "Requirement already satisfied: xgboost in c:\\users\\terrence\\anaconda3\\lib\\site-packages (1.1.1)\n",
            "Requirement already satisfied: scipy in c:\\users\\terrence\\anaconda3\\lib\\site-packages (from xgboost) (1.4.1)\n",
            "Requirement already satisfied: numpy in c:\\users\\terrence\\anaconda3\\lib\\site-packages (from xgboost) (1.18.1)\n"
          ],
          "name": "stdout"
        },
        {
          "output_type": "execute_result",
          "data": {
            "text/plain": [
              "(2119, 19)"
            ]
          },
          "metadata": {
            "tags": []
          },
          "execution_count": 7
        }
      ]
    },
    {
      "cell_type": "code",
      "metadata": {
        "id": "izVxay87SGpl",
        "colab_type": "code",
        "colab": {}
      },
      "source": [
        "# df['price'] = pd.to_numeric(df['price'])\n",
        "# df['mileage'] = pd.to_numeric(df['mileage'])\n",
        "# df['size'] = pd.to_numeric(df['size'])"
      ],
      "execution_count": 8,
      "outputs": []
    },
    {
      "cell_type": "code",
      "metadata": {
        "id": "faqT9KLry4DS",
        "colab_type": "code",
        "colab": {}
      },
      "source": [
        "## make csv for github \n",
        "# df.to_csv('clean_data_set_2_v2', index=False)"
      ],
      "execution_count": 9,
      "outputs": []
    },
    {
      "cell_type": "markdown",
      "metadata": {
        "id": "WPwzlKl9yUc8",
        "colab_type": "text"
      },
      "source": [
        "## EDA data set 2"
      ]
    },
    {
      "cell_type": "code",
      "metadata": {
        "id": "07XqMYAMJF4u",
        "colab_type": "code",
        "colab": {
          "base_uri": "https://localhost:8080/",
          "height": 441
        },
        "outputId": "6218671c-960b-450d-f45f-1946acfe39fb"
      },
      "source": [
        "# quick plot price vs mileage\n",
        "sns.jointplot(x=\"price\", y=\"mileage\", data=df, kind='reg',joint_kws={'line_kws':{'color':'red'}});"
      ],
      "execution_count": 10,
      "outputs": [
        {
          "output_type": "display_data",
          "data": {
            "text/plain": [
              "<Figure size 432x432 with 3 Axes>"
            ],
            "image/png": "[encoded data removed]"
          },
          "metadata": {
            "tags": [],
            "needs_background": "light"
          }
        }
      ]
    },
    {
      "cell_type": "markdown",
      "metadata": {
        "id": "s7fmfJ8IywSa",
        "colab_type": "text"
      },
      "source": [
        "## model selection data set 2"
      ]
    },
    {
      "cell_type": "code",
      "metadata": {
        "id": "VO2ZVrFhzW1Y",
        "colab_type": "code",
        "colab": {
          "base_uri": "https://localhost:8080/",
          "height": 34
        },
        "outputId": "ca1a27b9-18a2-40aa-d05c-af721efb1f63"
      },
      "source": [
        "# get base line prediction and measn absolute score\n",
        "\n",
        "#. get mean\n",
        "price_mean = df['price'].mean()\n",
        "\n",
        "#. get prediction with mean\n",
        "y_pred = [price_mean] * len(df['price'])\n",
        "\n",
        "#. get base line score\n",
        "baseline = mean_absolute_error(y_pred,df['price'])\n",
        "                               \n",
        "print(f'Baseline error of {baseline:.2f} if mean was used')"
      ],
      "execution_count": 11,
      "outputs": [
        {
          "output_type": "stream",
          "text": [
            "Baseline error of 1396.30 if mean was used\n"
          ],
          "name": "stdout"
        }
      ]
    },
    {
      "cell_type": "code",
      "metadata": {
        "id": "r8w-Ke4tPY-v",
        "colab_type": "code",
        "colab": {
          "base_uri": "https://localhost:8080/",
          "height": 101
        },
        "outputId": "2e5aa993-34dc-4d47-bd29-e4ba249ea62e"
      },
      "source": [
        "# use only int. features\n",
        "df = df[['price','mileage','city_mpg','high_mpg','car_year','size','flex_fuel','turbo','rear_wheel_drive','all_wheel_drive','front_wheel_drive']]\n",
        "\n",
        "# train, val test split @ 20% for test and val.\n",
        "train, test = train_test_split(df, test_size=.2, random_state=42)\n",
        "train, val = train_test_split(train, test_size=.2, random_state=42)\n",
        "\n",
        "# get target and features\n",
        "target = 'price'\n",
        "features = df.drop(target, axis=1).columns.to_list()\n",
        "\n",
        "# get feature matrix\n",
        "X_train = train[features]\n",
        "X_val = val[features]\n",
        "X_test = test[features]\n",
        "\n",
        "# get target vectors\n",
        "y_train = train[target]\n",
        "y_val = val[target]\n",
        "y_test = test[target]\n",
        "\n",
        "print('Splits shape:', train.shape, val.shape, test.shape)\n",
        "print('Feature matrix shape:', X_train.shape, X_val.shape, X_test.shape)\n",
        "print('Target vector shape:', y_train.shape, y_val.shape, y_test.shape)\n",
        "\n",
        "# use xgboost to predict \n",
        "model=xgb.XGBRegressor(random_state=1, n_estimators=1000, learning_rate=0.01)\n",
        "model.fit(X_train, y_train)\n",
        "print(mean_absolute_error(y_train, model.predict(X_train)))\n",
        "print(mean_absolute_error(y_val, model.predict(X_val)))\n"
      ],
      "execution_count": 12,
      "outputs": [
        {
          "output_type": "stream",
          "text": [
            "Splits shape: (1356, 11) (339, 11) (424, 11)\n",
            "Feature matrix shape: (1356, 10) (339, 10) (424, 10)\n",
            "Target vector shape: (1356,) (339,) (424,)\n",
            "571.6417055383192\n",
            "1038.9225649313237\n"
          ],
          "name": "stdout"
        }
      ]
    },
    {
      "cell_type": "code",
      "metadata": {
        "id": "T-kAwgiRTi69",
        "colab_type": "code",
        "colab": {
          "base_uri": "https://localhost:8080/",
          "height": 605
        },
        "outputId": "c52a96e7-8fff-442f-dae3-99307a6945bb"
      },
      "source": [
        "# implementing random search with a randomforestregression model\n",
        "\n",
        "# train, val test split @ 20% for test and val.\n",
        "train, test = train_test_split(df, test_size=.2, random_state=42)\n",
        "train, val = train_test_split(train, test_size=.2, random_state=42)\n",
        "\n",
        "# get target and features\n",
        "target = 'price'\n",
        "features = df.drop(target, axis=1).columns.to_list()\n",
        "\n",
        "# get feature matrix\n",
        "X_train = train[features]\n",
        "X_val = val[features]\n",
        "X_test = test[features]\n",
        "\n",
        "# get target vectors\n",
        "y_train = train[target]\n",
        "y_val = val[target]\n",
        "y_test = test[target]\n",
        "\n",
        "# check the shape\n",
        "print('Splits shape:', train.shape, val.shape, test.shape)\n",
        "print('Feature matrix shape:', X_train.shape, X_val.shape, X_test.shape)\n",
        "print('Target vector shape:', y_train.shape, y_val.shape, y_test.shape)\n",
        "\n",
        "# pipelinr\n",
        "pipeline = make_pipeline(\n",
        "     ce.OrdinalEncoder(),\n",
        "     RandomForestRegressor(random_state=42)\n",
        ")\n",
        "\n",
        "# param to test\n",
        "p_distributions = {\n",
        "    'randomforestregressor__n_estimators':range(200,400),\n",
        "    'randomforestregressor__min_samples_leaf':range(1,6),\n",
        "    'randomforestregressor__min_samples_split':range(1,15),\n",
        "    'randomforestregressor__max_depth':range(1,50)\n",
        "}\n",
        "\n",
        "# random search cv\n",
        "search = RandomizedSearchCV(\n",
        "    pipeline,\n",
        "    param_distributions=p_distributions,\n",
        "    n_iter = 50,\n",
        "    cv=10,\n",
        "    scoring='neg_mean_absolute_error',\n",
        "    verbose=10,\n",
        "    return_train_score=True,\n",
        "    n_jobs=-1\n",
        ")\n",
        "\n",
        "# fit\n",
        "search.fit(X_train, y_train);\n",
        "\n",
        "# get  val score\n",
        "pipeline = search.best_estimator_\n",
        "y_pred = pipeline.predict(X_val)\n",
        "\n",
        "# check val score and the model used\n",
        "print(search.best_params_)\n",
        "print(-search.best_score_)\n",
        "print(mean_absolute_error(y_val, y_pred))"
      ],
      "execution_count": 13,
      "outputs": [
        {
          "output_type": "stream",
          "text": [
            "Splits shape: (1356, 11) (339, 11) (424, 11)\n",
            "Feature matrix shape: (1356, 10) (339, 10) (424, 10)\n",
            "Target vector shape: (1356,) (339,) (424,)\n",
            "Fitting 10 folds for each of 50 candidates, totalling 500 fits\n"
          ],
          "name": "stdout"
        },
        {
          "output_type": "stream",
          "text": [
            "[Parallel(n_jobs=-1)]: Using backend LokyBackend with 8 concurrent workers.\n",
            "[Parallel(n_jobs=-1)]: Done   2 tasks      | elapsed:    3.7s\n",
            "[Parallel(n_jobs=-1)]: Done   9 tasks      | elapsed:    5.0s\n",
            "[Parallel(n_jobs=-1)]: Done  16 tasks      | elapsed:    5.2s\n",
            "[Parallel(n_jobs=-1)]: Done  25 tasks      | elapsed:    7.9s\n",
            "[Parallel(n_jobs=-1)]: Done  34 tasks      | elapsed:   10.4s\n",
            "[Parallel(n_jobs=-1)]: Done  45 tasks      | elapsed:   14.4s\n",
            "[Parallel(n_jobs=-1)]: Done  56 tasks      | elapsed:   18.2s\n",
            "[Parallel(n_jobs=-1)]: Done  69 tasks      | elapsed:   21.6s\n",
            "[Parallel(n_jobs=-1)]: Done  82 tasks      | elapsed:   25.9s\n",
            "[Parallel(n_jobs=-1)]: Done  97 tasks      | elapsed:   29.0s\n",
            "[Parallel(n_jobs=-1)]: Done 112 tasks      | elapsed:   32.9s\n",
            "[Parallel(n_jobs=-1)]: Done 129 tasks      | elapsed:   36.9s\n",
            "[Parallel(n_jobs=-1)]: Done 146 tasks      | elapsed:   41.8s\n",
            "[Parallel(n_jobs=-1)]: Done 165 tasks      | elapsed:   46.8s\n",
            "[Parallel(n_jobs=-1)]: Done 184 tasks      | elapsed:   50.0s\n",
            "[Parallel(n_jobs=-1)]: Done 205 tasks      | elapsed:   54.1s\n",
            "[Parallel(n_jobs=-1)]: Done 226 tasks      | elapsed:   58.8s\n",
            "[Parallel(n_jobs=-1)]: Done 249 tasks      | elapsed:  1.1min\n",
            "[Parallel(n_jobs=-1)]: Done 272 tasks      | elapsed:  1.2min\n",
            "[Parallel(n_jobs=-1)]: Done 297 tasks      | elapsed:  1.2min\n",
            "[Parallel(n_jobs=-1)]: Done 322 tasks      | elapsed:  1.3min\n",
            "[Parallel(n_jobs=-1)]: Done 349 tasks      | elapsed:  1.4min\n",
            "[Parallel(n_jobs=-1)]: Done 376 tasks      | elapsed:  1.5min\n",
            "[Parallel(n_jobs=-1)]: Done 405 tasks      | elapsed:  1.6min\n",
            "[Parallel(n_jobs=-1)]: Done 434 tasks      | elapsed:  1.7min\n",
            "[Parallel(n_jobs=-1)]: Done 465 tasks      | elapsed:  1.8min\n",
            "[Parallel(n_jobs=-1)]: Done 500 out of 500 | elapsed:  2.0min finished\n"
          ],
          "name": "stderr"
        },
        {
          "output_type": "stream",
          "text": [
            "{'randomforestregressor__n_estimators': 373, 'randomforestregressor__min_samples_split': 2, 'randomforestregressor__min_samples_leaf': 1, 'randomforestregressor__max_depth': 44}\n",
            "1025.47025066148\n",
            "1032.0841854690107\n"
          ],
          "name": "stdout"
        }
      ]
    },
    {
      "cell_type": "code",
      "metadata": {
        "id": "B8SYtRbcMA_a",
        "colab_type": "code",
        "colab": {
          "base_uri": "https://localhost:8080/",
          "height": 84
        },
        "outputId": "4449accf-7c68-488b-dbf6-8c8001ff1b25"
      },
      "source": [
        "search.best_params_\n",
        "\n",
        "# {'randomforestregressor__n_estimators': 321,\n",
        "#  'randomforestregressor__min_samples_split': 14,\n",
        "#  'randomforestregressor__min_samples_leaf': 1,\n",
        "#  'randomforestregressor__max_depth': 22}\n",
        "# 1025.8075380913047"
      ],
      "execution_count": 14,
      "outputs": [
        {
          "output_type": "execute_result",
          "data": {
            "text/plain": [
              "{'randomforestregressor__n_estimators': 373,\n",
              " 'randomforestregressor__min_samples_split': 2,\n",
              " 'randomforestregressor__min_samples_leaf': 1,\n",
              " 'randomforestregressor__max_depth': 44}"
            ]
          },
          "metadata": {
            "tags": []
          },
          "execution_count": 14
        }
      ]
    },
    {
      "cell_type": "code",
      "metadata": {
        "id": "FWMMsRmeIEp1",
        "colab_type": "code",
        "colab": {
          "base_uri": "https://localhost:8080/",
          "height": 50
        },
        "outputId": "64ebc1d9-2b3e-40e6-cad7-cd7900fa9739"
      },
      "source": [
        "# simple pipeline\n",
        "pipeline = make_pipeline(\n",
        "    ce.OneHotEncoder(use_cat_names=True),\n",
        "    RandomForestRegressor(max_depth=25),\n",
        ")\n",
        "\n",
        "# simple ML prediction\n",
        "pipeline.fit(X_train, y_train);\n",
        "y_pred = pipeline.predict(X_val)\n",
        "y_pred2 = pipeline.predict(X_train)\n",
        "print(mean_absolute_error(y_val, y_pred))\n",
        "print(mean_absolute_error(y_train, y_pred2))"
      ],
      "execution_count": 15,
      "outputs": [
        {
          "output_type": "stream",
          "text": [
            "1046.2031022615536\n",
            "379.89244899213367\n"
          ],
          "name": "stdout"
        }
      ]
    },
    {
      "cell_type": "code",
      "metadata": {
        "id": "Q71fSPhGFdBj",
        "colab_type": "code",
        "colab": {
          "base_uri": "https://localhost:8080/",
          "height": 34
        },
        "outputId": "b7fb9e4f-8915-48c7-c393-f302cc768deb"
      },
      "source": [
        "# train, val test split @ 20% for test and val.\n",
        "train, test = train_test_split(df, test_size=.2, random_state=42)\n",
        "train, val = train_test_split(train, test_size=.2, random_state=42)\n",
        "\n",
        "# get target and features\n",
        "target = 'price'\n",
        "features = df.drop(target, axis=1).columns.to_list()\n",
        "\n",
        "# get feature matrix\n",
        "X_train = train[features]\n",
        "X_val = val[features]\n",
        "X_test = test[features]\n",
        "\n",
        "# get target vectors\n",
        "y_train = train[target]\n",
        "y_val = val[target]\n",
        "y_test = test[target]\n",
        "\n",
        "##################### test ###########################\n",
        "\n",
        "# one hot encoding\n",
        "encoder = ce.OrdinalEncoder()\n",
        "X_train_encoded = encoder.fit_transform(X_train)\n",
        "X_val_encoded = encoder.transform(X_val)\n",
        "\n",
        "# scale encoded\n",
        "scaler = StandardScaler()\n",
        "X_train_scaled = scaler.fit_transform(X_train_encoded)\n",
        "X_val_scaled = scaler.transform(X_val_encoded)\n",
        "\n",
        "# lasso prediction\n",
        "lasso = linear_model.Lasso()\n",
        "lasso.fit(X_train_encoded,y_train)\n",
        "y_pred = lasso.predict(X_val_encoded)\n",
        "mean_absolute_error(y_val, y_pred)"
      ],
      "execution_count": 16,
      "outputs": [
        {
          "output_type": "execute_result",
          "data": {
            "text/plain": [
              "1093.3326203572647"
            ]
          },
          "metadata": {
            "tags": []
          },
          "execution_count": 16
        }
      ]
    },
    {
      "cell_type": "code",
      "metadata": {
        "id": "7s9TVXa_UNc5",
        "colab_type": "code",
        "colab": {}
      },
      "source": [
        ""
      ],
      "execution_count": 16,
      "outputs": []
    },
    {
      "cell_type": "code",
      "metadata": {
        "id": "RCQjI92RUNpK",
        "colab_type": "code",
        "colab": {}
      },
      "source": [
        ""
      ],
      "execution_count": 16,
      "outputs": []
    },
    {
      "cell_type": "code",
      "metadata": {
        "id": "F30ri3v7UNsd",
        "colab_type": "code",
        "colab": {}
      },
      "source": [
        ""
      ],
      "execution_count": 16,
      "outputs": []
    },
    {
      "cell_type": "code",
      "metadata": {
        "id": "WCZ7mW1hUNiW",
        "colab_type": "code",
        "colab": {}
      },
      "source": [
        ""
      ],
      "execution_count": 16,
      "outputs": []
    },
    {
      "cell_type": "code",
      "metadata": {
        "id": "pMr4ksrwUNZr",
        "colab_type": "code",
        "colab": {}
      },
      "source": [
        ""
      ],
      "execution_count": 16,
      "outputs": []
    }
  ]
}